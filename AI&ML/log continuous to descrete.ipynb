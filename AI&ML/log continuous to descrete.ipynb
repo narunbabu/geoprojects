{
 "cells": [
  {
   "cell_type": "code",
   "execution_count": 2,
   "metadata": {
    "scrolled": true
   },
   "outputs": [],
   "source": [
    "from get_log_data import read_logs, get_labelized_logdata\n",
    "import pandas as pd\n",
    "from sklearn.preprocessing import StandardScaler\n",
    "# COLUMNS = [\"DEPTH\",\"DT\",\"GR\",\"LLD\",\"LLS\",\"PHIE\",\"PHIT\",\"RHOB\",\"SW\",\"TNPH\",\"VWCL\"]\n",
    "# FEATURES = [\"DEPTH\",\"DT\",\"GR\",\"LLD\",\"LLS\",\"RHOB\",\"TNPH\"]\n",
    "# LABELS = [\"phit\",\"phie\",\"sw\"]\n",
    "# LABEL = \"phit\"\n",
    "# COLUMNS=[c.lower() for c in COLUMNS]\n",
    "# FEATURES=[c.lower() for c in FEATURES]\n",
    "# training_set,prediction_set=read_logs()\n"
   ]
  },
  {
   "cell_type": "code",
   "execution_count": 4,
   "metadata": {},
   "outputs": [
    {
     "data": {
      "text/plain": [
       "(array([[-0.99768573,  1.2688609 , -0.6293161 , ..., -0.02743011,\n",
       "         -1.0924715 , -0.4947934 ],\n",
       "        [-0.99708587,  0.6900069 , -0.22783814, ..., -0.00897573,\n",
       "         -0.93708444, -0.95996606],\n",
       "        [-0.99648607,  0.24695882,  0.01763118, ..., -0.00306188,\n",
       "         -0.7507544 , -1.2232491 ],\n",
       "        ...,\n",
       "        [ 2.271976  , -1.080319  , -0.01070972, ..., -0.14546952,\n",
       "          0.2078023 ,  1.1392142 ],\n",
       "        [ 2.2723696 , -1.0539738 ,  0.14975137, ..., -0.1190684 ,\n",
       "          0.14053515,  1.5288258 ],\n",
       "        [ 2.2727633 , -0.98644596,  0.09481875, ..., -0.0979475 ,\n",
       "          0.14053515,  1.2749879 ]], dtype=float32),\n",
       " array([8, 8, 8, ..., 2, 3, 3], dtype=int64))"
      ]
     },
     "execution_count": 4,
     "metadata": {},
     "output_type": "execute_result"
    }
   ],
   "source": [
    "X_train,y_train"
   ]
  },
  {
   "cell_type": "code",
   "execution_count": 6,
   "metadata": {},
   "outputs": [
    {
     "name": "stdout",
     "output_type": "stream",
     "text": [
      "[[273 321 464 158]\n",
      " [  7  12  49  67]\n",
      " [  8  15 134  96]\n",
      " [  9   0   5 269]]\n",
      "             precision    recall  f1-score   support\n",
      "\n",
      "          0       0.92      0.22      0.36      1216\n",
      "          1       0.03      0.09      0.05       135\n",
      "          2       0.21      0.53      0.30       253\n",
      "          3       0.46      0.95      0.62       283\n",
      "\n",
      "avg / total       0.69      0.36      0.37      1887\n",
      "\n"
     ]
    }
   ],
   "source": [
    "import os\n",
    "from sklearn.neural_network import MLPClassifier\n",
    "from sklearn.preprocessing import StandardScaler\n",
    "from sklearn.metrics import classification_report,confusion_matrix\n",
    "X_train, X_test, y_train, y_test=get_labelized_logdata(4)\n",
    "mlp = MLPClassifier(hidden_layer_sizes=(40,40,40,40))\n",
    "mlp.fit(X_train,y_train)\n",
    "predictions = mlp.predict(X_test)\n",
    "\n",
    "print(confusion_matrix(y_test,predictions))\n",
    "print(classification_report(y_test,predictions))\n",
    "# return classification_report(y_test,predictions)"
   ]
  },
  {
   "cell_type": "code",
   "execution_count": null,
   "metadata": {},
   "outputs": [],
   "source": []
  },
  {
   "cell_type": "code",
   "execution_count": null,
   "metadata": {},
   "outputs": [],
   "source": [
    "import pandas as pd\n",
    "import numpy as np\n",
    "\n",
    "np.random.seed(10)\n",
    "df = pd.DataFrame({\n",
    "    'normal': np.random.normal(10, 3, 1000),\n",
    "    'chi': np.random.chisquare(4, 1000)\n",
    "})\n",
    "df.head()"
   ]
  },
  {
   "cell_type": "code",
   "execution_count": null,
   "metadata": {},
   "outputs": [],
   "source": [
    "pd.cut(df['chi'], 8).head()"
   ]
  },
  {
   "cell_type": "code",
   "execution_count": null,
   "metadata": {},
   "outputs": [],
   "source": [
    "custom_bucket_array = np.linspace(0, 20, 9)\n",
    "custom_bucket_array\n",
    "df['normal'] = pd.cut(df['normal'], custom_bucket_array)\n",
    "df['chi'] = pd.cut(df['chi'], custom_bucket_array)\n",
    "df.head()"
   ]
  },
  {
   "cell_type": "code",
   "execution_count": null,
   "metadata": {},
   "outputs": [],
   "source": [
    "df = pd.DataFrame({\n",
    "    'normal': np.random.normal(10, 3, 1000),\n",
    "    'chi': np.random.chisquare(4, 1000)\n",
    "})\n",
    "df.head()\n",
    "pd.qcut(df['chi'], 9, labels=False)"
   ]
  }
 ],
 "metadata": {
  "kernelspec": {
   "display_name": "tfgpu15",
   "language": "python",
   "name": "tfgpu15"
  },
  "language_info": {
   "codemirror_mode": {
    "name": "ipython",
    "version": 3
   },
   "file_extension": ".py",
   "mimetype": "text/x-python",
   "name": "python",
   "nbconvert_exporter": "python",
   "pygments_lexer": "ipython3",
   "version": "3.6.1"
  }
 },
 "nbformat": 4,
 "nbformat_minor": 2
}
