{
 "cells": [
  {
   "cell_type": "code",
   "execution_count": null,
   "metadata": {
    "collapsed": true
   },
   "outputs": [],
   "source": [
    "import tensorflow as tf\n",
    "import numpy as np\n",
    "A = tf.placeholder(tf.float32, shape=[None, 3])\n",
    "B = tf.placeholder(tf.float32, shape=[None, 3])\n",
    "C = tf.placeholder(tf.float32, shape=[3, None])\n",
    "a = np.array([[1.0, 2.0, 3.0],[6.0, 4.0, 3.0]])\n",
    "b = np.array([[2.0, 2.0, 2.0],[1.0, 2.0, 3.0]])\n",
    "c= np.array([[2.0],[1.0],[3.0]])\n",
    "\n",
    "cost=tf.reduce_sum(tf.pow(A-B, 2))/(2*4)\n",
    "print(a.shape,b.shape,c.shape)\n",
    "subt = tf.subtract(A,B)\n",
    "# mult = tf.multiply(A,B)\n",
    "init = tf.global_variables_initializer()\n",
    "with tf.Session() as sess:\n",
    "    sess.run(init)\n",
    "    s = sess.run(subt,feed_dict={A: a, B:b})\n",
    "#     m = sess.run(mult,feed_dict={A: a, B:b})\n",
    "    cost = sess.run(cost,feed_dict={A: a, B:b})\n",
    "    print(s)\n",
    "    print(cost)"
   ]
  }
 ],
 "metadata": {
  "kernelspec": {
   "display_name": "tfgpu15",
   "language": "python",
   "name": "tfgpu15"
  },
  "language_info": {
   "codemirror_mode": {
    "name": "ipython",
    "version": 3
   },
   "file_extension": ".py",
   "mimetype": "text/x-python",
   "name": "python",
   "nbconvert_exporter": "python",
   "pygments_lexer": "ipython3",
   "version": "3.6.1"
  }
 },
 "nbformat": 4,
 "nbformat_minor": 2
}
