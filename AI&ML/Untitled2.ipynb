{
 "cells": [
  {
   "cell_type": "code",
   "execution_count": 1,
   "metadata": {
    "collapsed": true
   },
   "outputs": [],
   "source": [
    "'''\n",
    "Nearest Neighbor\n",
    "Author: Rowel Atienza\n",
    "Project: https://github.com/roatienza/Deep-Learning-Experiments\n",
    "'''\n",
    "# On command line: python3 regression_nn.py\n",
    "# Prerequisite: tensorflow 1.0 (see tensorflow.org)\n",
    "\n",
    "\n",
    "from __future__ import print_function\n",
    "\n",
    "import tensorflow as tf\n",
    "import matplotlib.pyplot as plt\n",
    "import matplotlib.patches as mpatches\n",
    "import numpy as np\n",
    "import math\n",
    "\n",
    "# Tunable parameters (Try changing the values and see what happens)\n",
    "samples = 10\n",
    "\n",
    "# xcoeff used by the model y\n",
    "xcoeff = tf.transpose(tf.constant([[1., 1., 1.]]))\n",
    "\n",
    "# Sample distribution x\n",
    "x = tf.linspace(-2.5,2.5,samples)\n",
    "# Correct the shape\n",
    "a = tf.reshape(x,[samples,1])\n",
    "\n",
    "# New inputs whose outputs are to be predicted using nearest neighbor\n",
    "b = tf.linspace(-4.,4.,samples)\n",
    "\n",
    "# Correct the shape\n",
    "b = tf.reshape(b,[samples,1])\n",
    "\n",
    "# Inputs to form y = a*a*xcoeff[0] + a*xcoeff[1] + xcoeff[2]\n",
    "A = tf.concat([tf.concat([a*a,a],1),tf.ones_like(a)],1)\n",
    "\n",
    "# Observed outputs\n",
    "y = tf.matmul(A,xcoeff)\n",
    "# noise = tf.random_normal(y.get_shape(),stddev=0.8)\n",
    "noise = tf.sin(math.pi*a)\n",
    "y = tf.add(y,noise)\n",
    "\n",
    "# L1 distance of each b from sample distribution x\n",
    "l1 = tf.abs(tf.subtract(x,b))\n",
    "# get the nearest neighbor index\n",
    "nn = tf.argmin(l1,1)"
   ]
  },
  {
   "cell_type": "code",
   "execution_count": 12,
   "metadata": {},
   "outputs": [
    {
     "name": "stdout",
     "output_type": "stream",
     "text": [
      "[[-1.        ]\n",
      " [ 0.17364796]\n",
      " [ 0.9396927 ]\n",
      " [-0.50000024]\n",
      " [-0.7660444 ]\n",
      " [ 0.76604474]\n",
      " [ 0.49999943]\n",
      " [-0.93969285]\n",
      " [-0.17364751]\n",
      " [ 1.        ]]\n"
     ]
    }
   ],
   "source": [
    "with tf.Session() as session:\n",
    "    session.run(init)\n",
    "    print(noise.eval())"
   ]
  },
  {
   "cell_type": "code",
   "execution_count": 2,
   "metadata": {},
   "outputs": [
    {
     "name": "stdout",
     "output_type": "stream",
     "text": [
      "[-2.5        -1.9444444  -1.3888888  -0.83333325 -0.27777767  0.2777779\n",
      "  0.8333335   1.3888891   1.9444447   2.5       ]\n",
      "[[-4.         -3.1111112  -2.2222223  -1.3333333  -0.44444442  0.44444466\n",
      "   1.3333335   2.2222223   3.1111112   4.        ]]\n",
      "[-2.5        -2.5        -2.5        -1.3888888  -0.27777767  0.2777779\n",
      "  1.3888891   1.9444447   2.5         2.5       ]\n"
     ]
    },
    {
     "data": {
      "image/png": "[encoded data removed]",
      "text/plain": [
       "<Figure size 432x288 with 1 Axes>"
      ]
     },
     "metadata": {},
     "output_type": "display_data"
    }
   ],
   "source": [
    "init = tf.global_variables_initializer()\n",
    "with tf.Session() as session:\n",
    "    session.run(init)\n",
    "    # the nearest neighbor to x based l1 between b and x\n",
    "    xnn = x.eval()[nn.eval()]\n",
    "    ann = tf.reshape(xnn, [samples, 1])\n",
    "    # Use the same model generating inputs y = a*a*xcoeff[0] + a*xcoeff[1] + xcoeff[2]\n",
    "    Ann = tf.concat([tf.concat([ann * ann, ann],1), tf.ones_like(ann)],1)\n",
    "    # Predicted outputs\n",
    "    yp = tf.matmul(Ann, xcoeff)\n",
    "    noisenn = tf.sin(math.pi * ann)\n",
    "    yp = tf.add(yp, noisenn)\n",
    "\n",
    "    # Debugging: print model inputs (x), new inputs (b), nearest neighbor inputs (xnn)\n",
    "    print(x.eval())\n",
    "    print(b.eval().reshape([1,samples]))\n",
    "    print(xnn)\n",
    "\n",
    "    # Let's plot\n",
    "    # a = np.array(a.eval())\n",
    "    plt.plot(a.eval(), y.eval(), 'ro', b.eval(), yp.eval(), 'b')\n",
    "    red = mpatches.Patch(color='red', label='Data')\n",
    "    blue = mpatches.Patch(color='blue', label='Model')\n",
    "    plt.legend(handles=[red,blue])\n",
    "    plt.show()"
   ]
  },
  {
   "cell_type": "code",
   "execution_count": null,
   "metadata": {
    "collapsed": true
   },
   "outputs": [],
   "source": []
  },
  {
   "cell_type": "code",
   "execution_count": null,
   "metadata": {
    "collapsed": true
   },
   "outputs": [],
   "source": []
  }
 ],
 "metadata": {
  "kernelspec": {
   "display_name": "tfgpu15",
   "language": "python",
   "name": "tfgpu15"
  },
  "language_info": {
   "codemirror_mode": {
    "name": "ipython",
    "version": 3
   },
   "file_extension": ".py",
   "mimetype": "text/x-python",
   "name": "python",
   "nbconvert_exporter": "python",
   "pygments_lexer": "ipython3",
   "version": "3.6.1"
  }
 },
 "nbformat": 4,
 "nbformat_minor": 2
}
