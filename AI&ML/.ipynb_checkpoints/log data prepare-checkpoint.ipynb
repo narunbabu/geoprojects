{
 "cells": [
  {
   "cell_type": "code",
   "execution_count": 14,
   "metadata": {},
   "outputs": [],
   "source": [
    "import pandas as pd\n",
    "import numpy as np\n",
    "import lasio\n",
    "import os\n",
    "folder=r'D:\\Ameyem Office\\Geoservices\\Neeraj & me\\log data\\\\'\n",
    "cols=[]\n",
    "las=[]\n",
    "for file in os.listdir(folder):\n",
    "    las.append(lasio.read(folder+file))\n",
    "cols.append([a.lower() for a in las[0].keys()])\n",
    "# df=pd.DataFrame(las.data,columns=las.keys())\n",
    "# df.to_csv('lasdata.csv',index=False)"
   ]
  },
  {
   "cell_type": "code",
   "execution_count": 17,
   "metadata": {},
   "outputs": [
    {
     "data": {
      "text/plain": [
       "(940, 11)"
      ]
     },
     "execution_count": 17,
     "metadata": {},
     "output_type": "execute_result"
    }
   ],
   "source": [
    "# type(las.data)\n",
    "las[0].data.shape"
   ]
  },
  {
   "cell_type": "code",
   "execution_count": 28,
   "metadata": {},
   "outputs": [
    {
     "name": "stdout",
     "output_type": "stream",
     "text": [
      "(940, 11)\n",
      "(2424, 11)\n"
     ]
    }
   ],
   "source": [
    "b=las[0].data \n",
    "print(b.shape)\n",
    "b=np.append(las[0].data,las[3].data, axis=0)\n",
    "print(b.shape)\n"
   ]
  },
  {
   "cell_type": "code",
   "execution_count": 21,
   "metadata": {},
   "outputs": [
    {
     "data": {
      "text/plain": [
       "((940, 11), (1442, 10))"
      ]
     },
     "execution_count": 21,
     "metadata": {},
     "output_type": "execute_result"
    }
   ],
   "source": [
    "las[0].data.shape,las[2].data.shape"
   ]
  },
  {
   "cell_type": "code",
   "execution_count": 29,
   "metadata": {},
   "outputs": [],
   "source": [
    "b=las[0].data \n",
    "for l in las[3:-2]:\n",
    "#     print(l.keys())\n",
    "    b=np.append(b,l.data, axis=0)\n",
    "df=pd.DataFrame(b,columns=las[0].keys())\n",
    "df.to_csv('lasdata.csv',index=False)"
   ]
  },
  {
   "cell_type": "code",
   "execution_count": 30,
   "metadata": {
    "collapsed": true
   },
   "outputs": [],
   "source": []
  },
  {
   "cell_type": "code",
   "execution_count": null,
   "metadata": {
    "collapsed": true
   },
   "outputs": [],
   "source": [
    "c=las[-2].data \n",
    "for l in las[-1:]:\n",
    "#     print(l.keys())\n",
    "    b=np.append(c,l.data, axis=0)\n",
    "df=pd.DataFrame(c,columns=las[0].keys())\n",
    "df.to_csv('lasdata-predict.csv',index=False)"
   ]
  }
 ],
 "metadata": {
  "kernelspec": {
   "display_name": "Python 3",
   "language": "python",
   "name": "python3"
  },
  "language_info": {
   "codemirror_mode": {
    "name": "ipython",
    "version": 3
   },
   "file_extension": ".py",
   "mimetype": "text/x-python",
   "name": "python",
   "nbconvert_exporter": "python",
   "pygments_lexer": "ipython3",
   "version": "3.6.1"
  }
 },
 "nbformat": 4,
 "nbformat_minor": 2
}
