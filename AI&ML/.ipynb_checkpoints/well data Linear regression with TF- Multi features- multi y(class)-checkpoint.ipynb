{
 "cells": [
  {
   "cell_type": "code",
   "execution_count": 27,
   "metadata": {},
   "outputs": [],
   "source": [
    "import os\n",
    "import numpy as np\n",
    "import pandas as pd\n",
    "%matplotlib inline\n",
    "from matplotlib import pyplot as plt\n",
    "from pandas.plotting import scatter_matrix\n",
    "from sklearn import model_selection\n",
    "import tensorflow as tf\n",
    "folder=r'D:\\Ameyem Office\\Geoservices\\Neeraj & me\\log data\\\\'\n",
    "df=pd.read_csv('lasdata.csv')"
   ]
  },
  {
   "cell_type": "code",
   "execution_count": 79,
   "metadata": {},
   "outputs": [],
   "source": [
    "# las.data.transpose()\n",
    "Xd=df[df.columns[[0,1,2,3,4,7,9]]]\n",
    "Yd=df[df.columns[[0,5,6,8,10]]]\n",
    "# print(Xd.head())\n",
    "# print(Yd.head())\n",
    "\n",
    "\n",
    "X1 = Xd.values[:,1:] \n",
    "Y1 = Yd.values[:,0:] \n",
    "validation_size = 0.20\n",
    "seed = 7\n",
    "X_train, X_validation, Y_train, Y_validation = model_selection.train_test_split(X1, Y1, test_size=validation_size, random_state=seed)\n",
    "scoring = 'accuracy'"
   ]
  },
  {
   "cell_type": "code",
   "execution_count": 80,
   "metadata": {},
   "outputs": [
    {
     "data": {
      "text/plain": [
       "(1124, 6, 5)"
      ]
     },
     "execution_count": 80,
     "metadata": {},
     "output_type": "execute_result"
    }
   ],
   "source": [
    "batch_size,num_features=X_train.shape\n",
    "num_classes=Y_train.shape[1]\n",
    "n_samples=batch_size\n",
    "# Parameters\n",
    "batch_size,num_features,num_classes\n"
   ]
  },
  {
   "cell_type": "code",
   "execution_count": 81,
   "metadata": {},
   "outputs": [],
   "source": [
    "from __future__ import print_function\n",
    "from tensorflow.python.ops import resources\n",
    "from tensorflow.contrib.tensor_forest.python import tensor_forest\n",
    "\n",
    "# Parameters\n",
    "num_steps = 500 # Total steps to train\n",
    "# batch_size = 1024 # The number of samples per batch\n",
    "# num_classes = 10 # The 10 digits\n",
    "# num_features = 784 # Each image is 28x28 pixels\n",
    "num_trees = 10\n",
    "max_nodes = 1000\n",
    "\n",
    "# Input and Target data\n",
    "X = tf.placeholder(tf.float32, shape=[None, num_features])\n",
    "# For random forest, labels must be integers (the class id)\n",
    "\n",
    "Y = tf.placeholder(tf.float32, [None, num_classes]) \n",
    "\n",
    "# Set model weights\n",
    "# W = tf.Variable(tf.zeros([num_features, num_classes]))\n",
    "# b = tf.Variable(tf.zeros([num_classes]))\n",
    "rng = np.random\n",
    "# Set model weights\n",
    "W = tf.Variable(rng.randn(num_features, num_classes).astype(np.float32), name=\"weight\")\n",
    "b = tf.Variable(rng.randn(num_classes).astype(np.float32), name=\"bias\")"
   ]
  },
  {
   "cell_type": "code",
   "execution_count": 82,
   "metadata": {},
   "outputs": [],
   "source": [
    "learning_rate = 0.0001\n",
    "training_epochs = 100\n",
    "display_step = 20\n",
    "# Construct a linear model\n",
    "pred1 = tf.add(tf.matmul(X, W), b)\n",
    "# pred = tf.add(tf.multiply(X, W), b)\n",
    "optcost = tf.reduce_sum(tf.pow(pred1-Y, 2))/(2*n_samples)\n",
    "# Gradient descent\n",
    "optimizer = tf.train.GradientDescentOptimizer(learning_rate).minimize(optcost)\n",
    "# Initialize the variables (i.e. assign their default value)\n",
    "init = tf.global_variables_initializer()"
   ]
  },
  {
   "cell_type": "code",
   "execution_count": 83,
   "metadata": {},
   "outputs": [
    {
     "name": "stdout",
     "output_type": "stream",
     "text": [
      "-1.2587249\n"
     ]
    }
   ],
   "source": [
    "with tf.Session() as sess:\n",
    "    sess.run(init)\n",
    "    print(sess.run(b)[0] )\n",
    "    "
   ]
  },
  {
   "cell_type": "code",
   "execution_count": 84,
   "metadata": {},
   "outputs": [
    {
     "name": "stdout",
     "output_type": "stream",
     "text": [
      "Epoch: 0020 cost= 6013.307128906 W= [[ 8.982504    0.65045404 -0.731591    0.21927038 -0.15695705]\n",
      " [ 5.615757   -1.3319725   1.4275138  -0.724447    0.5250252 ]\n",
      " [ 1.022038   -0.58348215 -0.15504338  1.8330262  -1.6946652 ]\n",
      " [-0.1346051   1.331987    0.02603147  1.0636183  -0.05547284]\n",
      " [ 1.6480303   0.49272236 -0.15476386  0.5175253  -0.5677774 ]\n",
      " [-2.4743223   0.2211824  -1.7967625  -0.36760285 -1.1583898 ]] b= [-1.1704365   0.38127246 -0.66332996 -0.23098794  0.33507705]\n",
      "Epoch: 0040 cost= 5903.354980469 W= [[ 8.8533993e+00  5.7775110e-01 -6.5677834e-01  1.6519004e-01\n",
      "  -1.2356652e-01]\n",
      " [ 5.8706579e+00 -1.1856322e+00  1.2783502e+00 -6.1500984e-01\n",
      "   4.5222321e-01]\n",
      " [ 1.1463233e+00 -6.2252074e-01 -1.2777647e-01  1.7614604e+00\n",
      "  -1.6519146e+00]\n",
      " [ 8.2864478e-04  1.2911208e+00  5.4286342e-02  9.8844594e-01\n",
      "  -1.0655171e-02]\n",
      " [ 1.6979254e+00  4.9529094e-01 -1.5762439e-01  5.1881659e-01\n",
      "  -5.6863493e-01]\n",
      " [-2.4723313e+00  2.2110717e-01 -1.7965833e+00 -3.6729753e-01\n",
      "  -1.1585506e+00]] b= [-1.1573261   0.38146073 -0.66363084 -0.23118725  0.3351754 ]\n",
      "Epoch: 0060 cost= 5813.795898438 W= [[ 8.718687    0.51283765 -0.58913815  0.12116399 -0.09429422]\n",
      " [ 6.0938277  -1.0556061   1.1458001  -0.51705694  0.388111  ]\n",
      " [ 1.2686597  -0.6574072  -0.10417594  1.6950052  -1.6121976 ]\n",
      " [ 0.13418049  1.2545847   0.07872248  0.9186128   0.03098704]\n",
      " [ 1.7469568   0.49755767 -0.16016445  0.51995474 -0.569345  ]\n",
      " [-2.4703448   0.22103922 -1.7964123  -0.36698288 -1.1587086 ]] b= [-1.1444538   0.38162255 -0.66389644 -0.23136461  0.3352812 ]\n",
      "Epoch: 0080 cost= 5737.852050781 W= [[ 8.594772    0.45511845 -0.5287276   0.08290788 -0.06876072]\n",
      " [ 6.2969036  -0.9399548   1.0275966  -0.43095484  0.33165985]\n",
      " [ 1.389737   -0.68857825 -0.08386264  1.6330141  -1.5752441 ]\n",
      " [ 0.2661229   1.2219222   0.09973764  0.8534554   0.06973638]\n",
      " [ 1.7955128   0.49956122 -0.1624351   0.5208979  -0.56992704]\n",
      " [-2.468292    0.22097887 -1.7962527  -0.36667427 -1.1588635 ]] b= [-1.1316628   0.38176316 -0.6641377  -0.23154853  0.3353922 ]\n",
      "Epoch: 0100 cost= 5673.020507812 W= [[ 8.480636    0.4037997  -0.47475958  0.04974768 -0.04653632]\n",
      " [ 6.4819546  -0.8370927   0.9221673  -0.35536405  0.28200486]\n",
      " [ 1.5092607  -0.7164385  -0.06645045  1.5750955  -1.5408059 ]\n",
      " [ 0.39635167  1.1927117   0.11773408  0.7925643   0.1058519 ]\n",
      " [ 1.8436348   0.50133044 -0.16446553  0.52167016 -0.5703967 ]\n",
      " [-2.4661753   0.22092524 -1.7961032  -0.36637208 -1.1590153 ]] b= [-1.1189482   0.38188484 -0.6643567  -0.23173742  0.33550736]\n",
      "Optimization Finished!\n",
      "Training cost= 5673.0205 W= [[ 8.480636    0.4037997  -0.47475958  0.04974768 -0.04653632]\n",
      " [ 6.4819546  -0.8370927   0.9221673  -0.35536405  0.28200486]\n",
      " [ 1.5092607  -0.7164385  -0.06645045  1.5750955  -1.5408059 ]\n",
      " [ 0.39635167  1.1927117   0.11773408  0.7925643   0.1058519 ]\n",
      " [ 1.8436348   0.50133044 -0.16446553  0.52167016 -0.5703967 ]\n",
      " [-2.4661753   0.22092524 -1.7961032  -0.36637208 -1.1590153 ]] b= [-1.1189482   0.38188484 -0.6643567  -0.23173742  0.33550736] \n",
      "\n"
     ]
    }
   ],
   "source": [
    "\n",
    "# Start training\n",
    "with tf.Session() as sess:\n",
    "    sess.run(init)\n",
    "    i=0\n",
    "    # Fit all training data\n",
    "    for epoch in range(training_epochs):\n",
    "        i +=1\n",
    "#         print(i,end=\", \")\n",
    "        sess.run(optimizer, feed_dict={X: X_train, Y:Y_train})\n",
    "        if (epoch+1) % display_step == 0:\n",
    "#             p1=sess.run(pred,feed_dict={X: X_train, Y:Y_train})\n",
    "            c = sess.run(optcost, feed_dict={X: X_train, Y:Y_train})\n",
    "#             print(p1)\n",
    "            print( \"Epoch:\", '%04d' % (epoch+1), \"cost=\", \"{:.9f}\".format(c), \\\n",
    "                \"W=\", sess.run(W), \"b=\", sess.run(b))\n",
    "\n",
    "    print (\"Optimization Finished!\")\n",
    "    training_cost = sess.run(optcost, feed_dict={X: X_train, Y:Y_train})\n",
    "    v_cost = sess.run(optcost, feed_dict={X: X_train, Y:Y_train})\n",
    "    print (\"Training cost=\", training_cost, \"W=\", sess.run(W), \"b=\", sess.run(b), '\\n')\n",
    "    Y_pred= sess.run(tf.matmul(X_train.astype(np.float32),W))\n",
    "#     print(type(X_train[0,0]),type(sess.run(W)[0,0]))\n",
    "\n"
   ]
  },
  {
   "cell_type": "code",
   "execution_count": 87,
   "metadata": {},
   "outputs": [
    {
     "data": {
      "image/png": "[encoded data removed]",
      "text/plain": [
       "<Figure size 432x288 with 1 Axes>"
      ]
     },
     "metadata": {},
     "output_type": "display_data"
    }
   ],
   "source": [
    "Y_train,Y_pred\n",
    "xid=0\n",
    "yid=4\n",
    "#     #Graphic display\n",
    "# plt.plot(X_train[:,xid], Y_train[:,yid], 'ro', label='Original data')\n",
    "plt.plot(Y_train[:,yid], Y_pred[:,yid],'b*', label='Fitted line')\n",
    "plt.legend()\n",
    "plt.show()"
   ]
  }
 ],
 "metadata": {
  "kernelspec": {
   "display_name": "tfgpu15",
   "language": "python",
   "name": "tfgpu15"
  },
  "language_info": {
   "codemirror_mode": {
    "name": "ipython",
    "version": 3
   },
   "file_extension": ".py",
   "mimetype": "text/x-python",
   "name": "python",
   "nbconvert_exporter": "python",
   "pygments_lexer": "ipython3",
   "version": "3.6.1"
  }
 },
 "nbformat": 4,
 "nbformat_minor": 2
}
