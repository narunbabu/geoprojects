{
 "cells": [
  {
   "cell_type": "code",
   "execution_count": 12,
   "metadata": {
    "collapsed": true
   },
   "outputs": [],
   "source": [
    "from sklearn.preprocessing import StandardScaler\n",
    "# data = [[0, 0], [0, 0], [1, 1], [1, 1]]\n",
    "import numpy as np"
   ]
  },
  {
   "cell_type": "code",
   "execution_count": 9,
   "metadata": {},
   "outputs": [],
   "source": [
    "data=np.array([[ 4.70080639e-01,  5.13434645e-01,  1.64178226e+00],\n",
    "       [-5.93520358e-01, -5.81218232e-01,  2.89737453e-01],\n",
    "       [-5.48066503e-01, -5.43348010e-01, -6.41480338e-01],\n",
    "       [-3.50843537e-01, -3.62955776e-01,  1.62753209e-01],\n",
    "       [-6.84460101e-01, -6.98746506e-01, -1.15139848e-01],\n",
    "       [-5.68567184e-01, -5.37517150e-01,  5.23321266e-02],\n",
    "       [ 9.79292000e-02,  6.33043929e-02,  2.72560840e-01],\n",
    "       [ 3.45692804e-02, -7.24756879e-02, -4.24612504e-04],\n",
    "       [-1.66689757e-01, -1.72693596e-01,  2.22517364e+00],\n",
    "       [ 1.32905921e+00,  1.48327067e+00, -3.82774200e+00]])"
   ]
  },
  {
   "cell_type": "code",
   "execution_count": 15,
   "metadata": {},
   "outputs": [
    {
     "name": "stdout",
     "output_type": "stream",
     "text": [
      "[[ 0.96068907  0.96008488  1.08074141]\n",
      " [-0.83782019 -0.77896683  0.1874863 ]\n",
      " [-0.76095943 -0.71880322 -0.42774113]\n",
      " [-0.42746282 -0.43221792  0.10359165]\n",
      " [-0.99159587 -0.9656815  -0.08000388]\n",
      " [-0.79562531 -0.70953985  0.03063978]\n",
      " [ 0.33139499  0.24497254  0.17613823]\n",
      " [ 0.22425575  0.02926161 -0.004215  ]\n",
      " [-0.11606571 -0.12995244  1.46617045]\n",
      " [ 2.41318951  2.50084272 -2.53280783]]\n"
     ]
    }
   ],
   "source": [
    "scaler = StandardScaler()\n",
    "scaler.fit(data)\n",
    "y = scaler.transform(data)\n",
    "print(y)\n",
    "\n"
   ]
  },
  {
   "cell_type": "code",
   "execution_count": 16,
   "metadata": {},
   "outputs": [
    {
     "data": {
      "text/plain": [
       "array([[ 4.70080639e-01,  5.13434645e-01,  1.64178226e+00],\n",
       "       [-5.93520358e-01, -5.81218232e-01,  2.89737453e-01],\n",
       "       [-5.48066503e-01, -5.43348010e-01, -6.41480338e-01],\n",
       "       [-3.50843537e-01, -3.62955776e-01,  1.62753209e-01],\n",
       "       [-6.84460101e-01, -6.98746506e-01, -1.15139848e-01],\n",
       "       [-5.68567184e-01, -5.37517150e-01,  5.23321266e-02],\n",
       "       [ 9.79292000e-02,  6.33043929e-02,  2.72560840e-01],\n",
       "       [ 3.45692804e-02, -7.24756879e-02, -4.24612504e-04],\n",
       "       [-1.66689757e-01, -1.72693596e-01,  2.22517364e+00],\n",
       "       [ 1.32905921e+00,  1.48327067e+00, -3.82774200e+00]])"
      ]
     },
     "execution_count": 16,
     "metadata": {},
     "output_type": "execute_result"
    }
   ],
   "source": [
    "scaler.inverse_transform(y)"
   ]
  },
  {
   "cell_type": "code",
   "execution_count": 20,
   "metadata": {},
   "outputs": [
    {
     "name": "stdout",
     "output_type": "stream",
     "text": [
      "[[-0.97070326]\n",
      " [ 0.79839089]\n",
      " [ 1.14064378]\n",
      " [-0.97070326]\n",
      " [ 1.4987935 ]\n",
      " [-0.14162313]\n",
      " [-0.66739584]\n",
      " [ 1.25581442]\n",
      " [-0.97070326]\n",
      " [-0.97251384]]\n"
     ]
    }
   ],
   "source": [
    "y_=np.array([[1.00000e-04],\n",
    "       [9.78090e-02],\n",
    "       [1.16712e-01],\n",
    "       [1.00000e-04],\n",
    "       [1.36493e-01],\n",
    "       [4.58910e-02],\n",
    "       [1.68520e-02],\n",
    "       [1.23073e-01],\n",
    "       [1.00000e-04],\n",
    "       [0.00000e+00]])\n",
    "scaler = StandardScaler()\n",
    "scaler.fit(y_)\n",
    "y_t = scaler.transform(y_)\n",
    "print(y_t)"
   ]
  }
 ],
 "metadata": {
  "kernelspec": {
   "display_name": "Python 3",
   "language": "python",
   "name": "python3"
  },
  "language_info": {
   "codemirror_mode": {
    "name": "ipython",
    "version": 3
   },
   "file_extension": ".py",
   "mimetype": "text/x-python",
   "name": "python",
   "nbconvert_exporter": "python",
   "pygments_lexer": "ipython3",
   "version": "3.6.1"
  }
 },
 "nbformat": 4,
 "nbformat_minor": 2
}
