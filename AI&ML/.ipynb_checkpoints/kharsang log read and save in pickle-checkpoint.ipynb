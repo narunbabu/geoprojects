{
 "cells": [
  {
   "cell_type": "code",
   "execution_count": 13,
   "metadata": {
    "scrolled": true
   },
   "outputs": [
    {
     "name": "stdout",
     "output_type": "stream",
     "text": [
      "KSG-01_LOGANALYSIS_OCT282015.las\n",
      "KSG-02_LOGANALYSIS_OCT282015.las\n",
      "KSG-04_LOGANALYSIS_OCT282015.las\n",
      "KSG-05_LOGANALYSIS_OCT282015.las\n",
      "KSG-06_LOGANALYSIS_OCT282015.las\n",
      "KSG-07_LOGANALYSIS_OCT282015.las\n",
      "KSG-08_LOGANALYSIS_OCT282015.las\n",
      "KSG-09_LOGANALYSIS_OCT282015.las\n",
      "KSG-10_LOGANALYSIS_OCT282015.las\n",
      "KSG-11_LOGANALYSIS_OCT282015.las\n",
      "KSG-12_LOGANALYSIS_OCT282015.las\n",
      "KSG-13_LOGANALYSIS_OCT282015.las\n",
      "KSG-14_LOGANALYSIS_OCT282015.las\n",
      "KSG-15_LOGANALYSIS_OCT282015.las\n",
      "KSG-16_LOGANALYSIS_OCT282015.las\n",
      "KSG-17_LOGANALYSIS_OCT282015.las\n",
      "KSG-18_LOGANALYSIS_OCT282015.las\n",
      "KSG-19_LOGANALYSIS_OCT282015.las\n",
      "KSG-20_LOGANALYSIS_OCT282015.las\n",
      "KSG-21_LOGANALYSIS_OCT282015.las\n",
      "KSG-22_LOGANALYSIS_OCT282015.las\n",
      "KSG-23_LOGANALYSIS_OCT282015.las\n",
      "KSG-24_LOGANALYSIS_OCT282015.las\n",
      "KSG-25_LOGANALYSIS_OCT282015.las\n",
      "KSG-26_LOGANALYSIS_OCT282015.las\n",
      "KSG-27_LOGANALYSIS_OCT282015.las\n",
      "KSG-29_LOGANALYSIS_OCT282015.las\n",
      "KSG-30_LOGANALYSIS_OCT282015.las\n",
      "KSG-31_LOGANALYSIS_OCT282015.las\n",
      "KSG-32_LOGANALYSIS_OCT282015.las\n",
      "KSG-33_LOGANALYSIS_OCT282015.las\n",
      "KSG-34_LOGANALYSIS_OCT282015.las\n",
      "KSG-35_LOGANALYSIS_OCT282015.las\n",
      "KSG-36_LOGANALYSIS_OCT282015.las\n",
      "KSG-37_LOGANALYSIS_OCT282015.las\n",
      "KSG-38_LOGANALYSIS_OCT282015.las\n",
      "KSG-39_LOGANALYSIS_OCT282015.las\n",
      "KSG-40_LOGANALYSIS_OCT282015.las\n",
      "KSG-41_LOGANALYSIS_OCT282015.las\n",
      "KSG-42_LOGANALYSIS_OCT282015.las\n",
      "KSG-43_LOGANALYSIS_OCT282015.las\n",
      "KSG-44_LOGANALYSIS_OCT282015.las\n",
      "KSG-45_LOGANALYSIS_OCT282015.las\n",
      "KSG-46_LOGANALYSIS_OCT282015.las\n",
      "KSG-47_LOGANALYSIS_OCT282015.las\n",
      "KSG-48_LOGANALYSIS_OCT282015.las\n",
      "KSG-49_LOGANALYSIS_OCT282015.las\n",
      "KSG-50_LOGANALYSIS_OCT282015.las\n",
      "KSG-51_LOGANALYSIS_OCT282015.las\n",
      "KSG-52_LOGANALYSIS_OCT282015.las\n",
      "KSG-53_LOGANALYSIS_OCT282015.las\n",
      "KSG-54_LOGANALYSIS_OCT282015.las\n",
      "KSG-55_LOGANALYSIS_OCT282015.las\n",
      "KSG-56_LOGANALYSIS_OCT282015.las\n",
      "KSG-57_LOGANALYSIS_OCT282015.las\n"
     ]
    },
    {
     "name": "stderr",
     "output_type": "stream",
     "text": [
      "Header section Parameter regexp=~P was not found.\n"
     ]
    },
    {
     "name": "stdout",
     "output_type": "stream",
     "text": [
      "KSG-58_LOGANALYSIS_OCT282015.las\n",
      "KSG-59 ST_LOGANALYSIS_OCT282015.las\n",
      "KSG-60_LOGANALYSIS_OCT282015.las\n",
      "KSG-61_LOGANALYSIS_OCT282015.las\n",
      "KSG-62_LOGANALYSIS_OCT282015.las\n",
      "KSG-63 ST2_LOGANALYSIS_OCT282015.las\n",
      "KSG-64_LOGANALYSIS_OCT282015.las\n",
      "KSG-65_LOGANALYSIS_OCT282015.las\n",
      "KSG-66_LOGANALYSIS_OCT282015.las\n",
      "KSG-67_LOGANALYSIS_OCT282015.las\n",
      "KSG-68_LOGANALYSIS_OCT282015.las\n",
      "KSG-70_LOGANALYSIS_OCT282015.las\n"
     ]
    }
   ],
   "source": [
    "import pandas as pd\n",
    "import numpy as np\n",
    "import lasio\n",
    "import os\n",
    "calc_folder=r'D:\\Arun\\Blade_project\\Blade Petrophysics\\BLADE-KHARSANG CALCULATED LOG ANALYSIS\\\\'\n",
    "folder=r'D:\\Arun\\Blade_project\\Blade Petrophysics\\BLADE-KHARSANG EDITLOG LAS\\\\'\n",
    "cols=[]\n",
    "las=[]\n",
    "for file in os.listdir(calc_folder):\n",
    "    print(file)\n",
    "    las.append(lasio.read(calc_folder+file))\n",
    "#     cols.append([a.lower() for a in las[0].keys()])\n",
    "# df=pd.DataFrame(las.data,columns=las.keys())\n",
    "# df.to_csv('lasdata.csv',index=False)\n",
    "import pickle\n",
    "pickle.dump(las,\n",
    "            open('kharsang_calculated_logs.pkl', 'wb'),\n",
    "            protocol=4)"
   ]
  },
  {
   "cell_type": "code",
   "execution_count": 14,
   "metadata": {},
   "outputs": [],
   "source": []
  },
  {
   "cell_type": "code",
   "execution_count": 6,
   "metadata": {
    "collapsed": true
   },
   "outputs": [],
   "source": [
    "# las2 = pickle.load(open('kharsang_edited_logs.pkl', 'rb'))"
   ]
  },
  {
   "cell_type": "code",
   "execution_count": 9,
   "metadata": {},
   "outputs": [
    {
     "data": {
      "text/plain": [
       "['DEPTH', 'B_DRES', 'B_DT', 'B_GR', 'B_SPBL', 'B_SRES']"
      ]
     },
     "execution_count": 9,
     "metadata": {},
     "output_type": "execute_result"
    }
   ],
   "source": [
    "# las2[0].keys()"
   ]
  }
 ],
 "metadata": {
  "kernelspec": {
   "display_name": "Python 3",
   "language": "python",
   "name": "python3"
  },
  "language_info": {
   "codemirror_mode": {
    "name": "ipython",
    "version": 3
   },
   "file_extension": ".py",
   "mimetype": "text/x-python",
   "name": "python",
   "nbconvert_exporter": "python",
   "pygments_lexer": "ipython3",
   "version": "3.6.1"
  }
 },
 "nbformat": 4,
 "nbformat_minor": 2
}
