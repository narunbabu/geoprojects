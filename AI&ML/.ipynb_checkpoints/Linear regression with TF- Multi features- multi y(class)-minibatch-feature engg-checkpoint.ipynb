{
 "cells": [
  {
   "cell_type": "code",
   "execution_count": null,
   "metadata": {},
   "outputs": [],
   "source": [
    "import os\n",
    "import numpy as np\n",
    "import pandas as pd\n",
    "%matplotlib inline\n",
    "from matplotlib import pyplot as plt\n",
    "from pandas.plotting import scatter_matrix\n",
    "from sklearn import model_selection\n",
    "\n",
    "\n",
    "\n",
    "folder=\"D:\\SoftwareWebApps\\Python\\GeoProjects\\AI&ML\\\\\"\n",
    "df=pd.read_csv(folder+'lasdata.csv')\n",
    "df.head()"
   ]
  },
  {
   "cell_type": "code",
   "execution_count": null,
   "metadata": {
    "collapsed": true
   },
   "outputs": [],
   "source": [
    "\n",
    "def add_squares(df, col_names):\n",
    "    new_cols=df[col_names].values\n",
    "    newcol_names=['sqr_'+c for c in col_names]\n",
    "    df=pd.DataFrame(np.append(new_cols,np.square(new_cols),axis=1),columns=np.append(col_names,newcol_names))\n",
    "    return df"
   ]
  },
  {
   "cell_type": "code",
   "execution_count": null,
   "metadata": {},
   "outputs": [],
   "source": [
    "# np.square(new_cols[0:5,0:5])\n",
    "# np.square(new_cols)\n",
    "\n",
    "# new_cols,np.append(new_cols,np.square(new_cols),axis=1)\n",
    "\n",
    "column_nos4xd=[0,1,2,3,4,7,9]\n",
    "column_nos2bsqrd=[1,2,3,4,7,9]\n",
    "Xd=df[df.columns[column_nos4xd]]\n",
    "Xd=add_squares(Xd, df.columns[column_nos2bsqrd])\n",
    "Yd=df[df.columns[[0,5,6,8,10]]]\n",
    "# Xd"
   ]
  },
  {
   "cell_type": "code",
   "execution_count": null,
   "metadata": {},
   "outputs": [],
   "source": [
    "# las.data.transpose()\n",
    "\n",
    "\n",
    "X1 = Xd.values[:,0:] \n",
    "Y1 = Yd.values[:,1:] \n",
    "validation_size = 0.20\n",
    "seed = 7\n",
    "Xo_train, Xo_validation, Y_train, Y_validation = model_selection.train_test_split(X1, Y1, test_size=validation_size, random_state=seed)\n",
    "X_train, X_validation =Xo_train[:,1:], Xo_validation[:,1:]\n",
    "scoring = 'accuracy'\n",
    "\n",
    "n_samples,num_features=X_train.shape\n",
    "num_classes=Y_train.shape[1]\n",
    "batch_size=n_samples\n",
    "# Parameters\n",
    "batch_size,num_features,num_classes\n"
   ]
  },
  {
   "cell_type": "code",
   "execution_count": null,
   "metadata": {
    "collapsed": true
   },
   "outputs": [],
   "source": [
    "# Xd"
   ]
  },
  {
   "cell_type": "code",
   "execution_count": null,
   "metadata": {
    "collapsed": true
   },
   "outputs": [],
   "source": [
    "from sklearn.preprocessing import StandardScaler\n",
    "scaler_x = StandardScaler()\n",
    "# Fit only to the training data\n",
    "scaler_x.fit(X_train)\n",
    "# Now apply the transformations to the data:\n",
    "X_train = scaler_x.transform(X_train)\n",
    "X_validation = scaler_x.transform(X_validation)\n",
    "\n",
    "scaler_y = StandardScaler()\n",
    "# Fit only to the training data\n",
    "scaler_y.fit(Y_train)\n",
    "# Now apply the transformations to the data:\n",
    "Y_train = scaler_y.transform(Y_train)\n",
    "Y_validation = scaler_y.transform(Y_validation)"
   ]
  },
  {
   "cell_type": "code",
   "execution_count": null,
   "metadata": {
    "collapsed": true
   },
   "outputs": [],
   "source": [
    "# Y_train[0:10,0:1]"
   ]
  },
  {
   "cell_type": "code",
   "execution_count": null,
   "metadata": {
    "collapsed": true
   },
   "outputs": [],
   "source": [
    "import tensorflow as tf\n",
    "from __future__ import print_function\n",
    "from tensorflow.python.ops import resources\n",
    "from tensorflow.contrib.tensor_forest.python import tensor_forest\n",
    "\n",
    "# Parameters\n",
    "# num_steps = 500 # Total steps to train\n",
    "\n",
    "num_trees = 10\n",
    "max_nodes = 1000\n",
    "\n",
    "# Input and Target data\n",
    "X = tf.placeholder(tf.float32, shape=[None, num_features])\n",
    "Y = tf.placeholder(tf.float32, [None, num_classes]) \n",
    "\n",
    "rng = np.random\n",
    "# Set model weights\n",
    "W = tf.Variable(rng.randn(num_features, num_classes).astype(np.float32), name=\"weight\")\n",
    "b = tf.Variable(rng.randn(num_classes).astype(np.float32), name=\"bias\")"
   ]
  },
  {
   "cell_type": "code",
   "execution_count": null,
   "metadata": {
    "collapsed": true
   },
   "outputs": [],
   "source": [
    "learning_rate = 0.1\n",
    "\n",
    "\n",
    "# Construct a linear model\n",
    "pred1 = tf.add(tf.matmul(X, W), b)\n",
    "# pred = tf.add(tf.multiply(X, W), b)\n",
    "optcost = tf.reduce_sum(tf.pow(pred1-Y, 2))/(2*n_samples)\n",
    "# Gradient descent\n",
    "optimizer = tf.train.GradientDescentOptimizer(learning_rate).minimize(optcost)\n",
    "# Initialize the variables (i.e. assign their default value)\n",
    "init = tf.global_variables_initializer()"
   ]
  },
  {
   "cell_type": "code",
   "execution_count": null,
   "metadata": {},
   "outputs": [],
   "source": [
    "display_step = 100\n",
    "bdisplay_step = 100\n",
    "minbatch_size=100\n",
    "training_epochs = 1000\n",
    "# Start training\n",
    "# with tf.Session() as sess:\n",
    "#     sess.run(init)\n",
    "#     i=0\n",
    "#     # Fit all training data\n",
    "#     for epoch in range(training_epochs):\n",
    "#         i +=1\n",
    "#         sess.run(optimizer, feed_dict={X: X_train, Y:Y_train})\n",
    "#         if (epoch+1) % bdisplay_step == 0:\n",
    "#             c = sess.run(optcost, feed_dict={X: X_train, Y:Y_train})\n",
    "#             print( \"Epoch:\", '%04d' % (epoch+1), \"cost=\", \"{:.9f}\".format(c))\n",
    "#     print (\"Optimization Finished!\")\n",
    "#     training_cost = sess.run(optcost, feed_dict={X: X_train, Y:Y_train})\n",
    "# #     v_cost = sess.run(optcost, feed_dict={X: X_train, Y:Y_train})\n",
    "#     print (\"Training cost=\", c, training_cost,\"W=\", sess.run(W), \"b=\", sess.run(b), '\\n')\n",
    "#     fW=sess.run(W)\n",
    "#     fb=sess.run(b)\n",
    "#     Y_pred= sess.run(tf.matmul(X_train.astype(np.float32),W))\n",
    "# #     print(type(X_train[0,0]),type(sess.run(W)[0,0]))\n",
    "\n",
    "# Following is minibatch online training\n",
    "# print(\"*****************************************\")\n",
    "with tf.Session() as sess:\n",
    "    sess.run(init)\n",
    "    n_iterations = 10000\n",
    "\n",
    "    # minibatch training\n",
    "    for i in range(n_iterations):\n",
    "        rand_index = np.random.choice(n_samples,minbatch_size)\n",
    "        rand_x = X_train[rand_index]\n",
    "        rand_y = Y_train[rand_index]\n",
    "        sess.run(optimizer, feed_dict={X: rand_x, Y:rand_y})\n",
    "        if (i+1) % display_step == 0:\n",
    "            c = sess.run(optcost, feed_dict={X: rand_x, Y:rand_y})\n",
    "            print( \"Run:\", '%04d' % (i+1), \"cost=\", \"{:.9f}\".format(c))\n",
    "\n",
    "    print (\"Optimization Finished!\")\n",
    "    training_cost = sess.run(optcost, feed_dict={X: X_train, Y:Y_train})\n",
    "    print (\"Training cost=\", c, training_cost, \"W=\", sess.run(W), \"b=\", sess.run(b), '\\n')\n",
    "    fW=sess.run(W)\n",
    "    fb=sess.run(b)\n",
    "    Y_pred= sess.run(tf.matmul(X_train.astype(np.float32),W))\n",
    "\n",
    "\n"
   ]
  },
  {
   "cell_type": "code",
   "execution_count": null,
   "metadata": {
    "collapsed": true
   },
   "outputs": [],
   "source": [
    "cost= 1.036000609"
   ]
  },
  {
   "cell_type": "code",
   "execution_count": null,
   "metadata": {},
   "outputs": [],
   "source": [
    "\n",
    "# W= np.array([[ 0.16330323,  0.14229785, -0.085071,   -0.01773075], \\\n",
    "#  [-0.21117081 , 0.06463999 , 0.08643706,  0.2787899 ], \\\n",
    "#  [ 0.18121253 , 0.14187634 ,-0.63060653 ,-0.23648901], \\\n",
    "#  [ 0.08302196,  0.08415918,  0.10065787 , 0.07010479], \\\n",
    "#  [-0.262355  ,  0.12125835,  0.17512348,  0.6792095 ], \\\n",
    "#  [-0.4219557 , -0.20905422 , 0.2702185 ,  0.307619  ]])\n",
    "# b= [-7.4699367e-09, -2.3569577e-09 ,-1.5058861e-08  ,7.4384667e-09]\n",
    "prediction_set_or = pd.read_csv(folder+\"lasdata-predict.csv\")\n",
    "\n",
    "Xt=prediction_set_or[prediction_set_or.columns[[0,1,2,3,4,7,9]]]\n",
    "X2 = Xt.values[:,0:] [:,1:]\n",
    "X_t = scaler_x.transform(X2)\n",
    "with tf.Session() as sess:\n",
    "    sess.run(init)\n",
    "    print((W))\n",
    "    Y_t_pred= sess.run(tf.add(tf.matmul(X_t.astype(np.float32),fW.astype(np.float32)),fb))\n",
    "Yt=prediction_set_or[prediction_set_or.columns[[0,5,6,8,10]]]\n",
    "\n",
    "Y2= Yt.values[:,1:]\n",
    "\n",
    "# Y_train_or=Y_train\n",
    "# Y_pred_or=Y_pred\n",
    "Y_train_inv=Y2\n",
    "Y_pred_inv=scaler_y.inverse_transform(Y_t_pred)\n",
    "\n",
    "Y_train_inv,Y_pred_inv"
   ]
  },
  {
   "cell_type": "code",
   "execution_count": null,
   "metadata": {},
   "outputs": [],
   "source": [
    "id=1\n",
    "Y_train=Y_train_inv[:,id]\n",
    "Y_pred=Y_pred_inv[:,id]\n",
    "\n",
    "%matplotlib inline\n",
    "from matplotlib import pyplot as plt\n",
    "# Y_train,Y_pred\n",
    "fig, ax = plt.subplots(nrows=1, ncols=2, figsize=(18, 14), dpi= 80, sharey=True)\n",
    "i=0\n",
    "perc_diff=(-Y_pred+Y_train)\n",
    "for axes in ax:\n",
    "    if(i==0):\n",
    "        axes.plot( Y_train,range(len(Y_train)), label=\"Actual data\",color='red')\n",
    "        axes.plot( Y_pred,range(len(Y_pred)), label=\"Predicted\",color='green')\n",
    "        axes.set_xlim (min(Y_train),max(Y_train))\n",
    "    else:\n",
    "        axes.plot(perc_diff  ,range(len(Y_train)), label=\"Difference\",color='red')\n",
    "        axes.set_xlim (-1,+1)\n",
    "        axes.xaxis.grid(True)\n",
    "#         axes.plot( Y_pred,range(len(Y_pred)), label=\"Predicted\",color='green')\n",
    "    i+=1\n",
    "    axes.set_ylim (0,len(Y_train))\n",
    "    axes.legend()\n",
    "    axes.invert_yaxis()\n",
    "    axes.yaxis.grid(True)\n",
    "#     axes.get_xaxis().set_visible(False) \n",
    "#     axes.set_title('',verticalalignment='top')\n",
    "#     axes.spines['top'].set_position(('outward',0))\n",
    "#     axes.set_xlabel(\"hi\")\n",
    "#     axes.twiny()\n",
    "    \n",
    "    \n",
    "plt.show()"
   ]
  },
  {
   "cell_type": "code",
   "execution_count": null,
   "metadata": {},
   "outputs": [],
   "source": [
    "# Y_train,Y_pred\n",
    "xid=0\n",
    "yid=0\n",
    "#     #Graphic display\n",
    "# plt.plot(Xo_train[:,xid], Y_train[:,yid], 'r.', label='Original data')\n",
    "# plt.plot(Xo_train[:,xid], Y_pred[:,yid],'b.', label='Fitted line')\n",
    "plt.plot(Y_train_inv[:,yid], Y_pred_inv[:,yid],'b*', label='Fitted line')\n",
    "plt.legend()\n",
    "plt.show()"
   ]
  },
  {
   "cell_type": "code",
   "execution_count": null,
   "metadata": {
    "collapsed": true
   },
   "outputs": [],
   "source": []
  },
  {
   "cell_type": "code",
   "execution_count": null,
   "metadata": {
    "collapsed": true
   },
   "outputs": [],
   "source": []
  }
 ],
 "metadata": {
  "kernelspec": {
   "display_name": "tfgpu15",
   "language": "python",
   "name": "tfgpu15"
  },
  "language_info": {
   "codemirror_mode": {
    "name": "ipython",
    "version": 3
   },
   "file_extension": ".py",
   "mimetype": "text/x-python",
   "name": "python",
   "nbconvert_exporter": "python",
   "pygments_lexer": "ipython3",
   "version": "3.6.1"
  }
 },
 "nbformat": 4,
 "nbformat_minor": 2
}
