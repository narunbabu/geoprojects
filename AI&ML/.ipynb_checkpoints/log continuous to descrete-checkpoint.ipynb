{
 "cells": [
  {
   "cell_type": "code",
   "execution_count": 31,
   "metadata": {
    "scrolled": true
   },
   "outputs": [
    {
     "data": {
      "text/plain": [
       "(array([[-0.99768573,  1.2688609 , -0.6293161 , ..., -0.02743011,\n",
       "         -1.0924715 , -0.4947934 ],\n",
       "        [-0.99708587,  0.6900069 , -0.22783814, ..., -0.00897573,\n",
       "         -0.93708444, -0.95996606],\n",
       "        [-0.99648607,  0.24695882,  0.01763118, ..., -0.00306188,\n",
       "         -0.7507544 , -1.2232491 ],\n",
       "        ...,\n",
       "        [ 2.271976  , -1.080319  , -0.01070972, ..., -0.14546952,\n",
       "          0.2078023 ,  1.1392142 ],\n",
       "        [ 2.2723696 , -1.0539738 ,  0.14975137, ..., -0.1190684 ,\n",
       "          0.14053515,  1.5288258 ],\n",
       "        [ 2.2727633 , -0.98644596,  0.09481875, ..., -0.0979475 ,\n",
       "          0.14053515,  1.2749879 ]], dtype=float32),\n",
       " array([8, 8, 8, ..., 2, 3, 3], dtype=int64),\n",
       " array([[-0.8783269 ,  2.5958104 ,  1.4222078 , ..., -1.242436  ,\n",
       "         -0.6700339 , -0.23093186],\n",
       "        [-0.87793326,  2.4295702 ,  1.4689872 , ..., -1.2226351 ,\n",
       "         -0.60747546, -0.38501737],\n",
       "        [-0.8775397 ,  2.2633297 ,  1.6349127 , ..., -1.2028344 ,\n",
       "         -0.52675486, -0.44611555],\n",
       "        ...,\n",
       "        [-0.1368013 , -0.45569617,  0.25321263, ..., -0.21147232,\n",
       "          0.8185879 , -0.9957867 ],\n",
       "        [-0.1364077 ,  0.37686545,  0.19747047, ..., -0.32367706,\n",
       "          0.79638976, -0.878856  ],\n",
       "        [-0.13601412,  0.9137584 ,  0.26970688, ..., -0.42426535,\n",
       "          0.7479574 , -0.6964233 ]], dtype=float32),\n",
       " array([4, 4, 4, ..., 2, 2, 1], dtype=int64))"
      ]
     },
     "execution_count": 31,
     "metadata": {},
     "output_type": "execute_result"
    }
   ],
   "source": [
    "from get_log_data import read_logs, get_labelized_logdata\n",
    "import pandas as pd\n",
    "from sklearn.preprocessing import StandardScaler\n",
    "COLUMNS = [\"DEPTH\",\"DT\",\"GR\",\"LLD\",\"LLS\",\"PHIE\",\"PHIT\",\"RHOB\",\"SW\",\"TNPH\",\"VWCL\"]\n",
    "FEATURES = [\"DEPTH\",\"DT\",\"GR\",\"LLD\",\"LLS\",\"RHOB\",\"TNPH\"]\n",
    "LABELS = [\"phit\",\"phie\",\"sw\"]\n",
    "LABEL = \"phit\"\n",
    "COLUMNS=[c.lower() for c in COLUMNS]\n",
    "FEATURES=[c.lower() for c in FEATURES]\n",
    "training_set,prediction_set=read_logs()\n",
    "\n",
    "get_labelized_logdata(9)"
   ]
  },
  {
   "cell_type": "code",
   "execution_count": 29,
   "metadata": {},
   "outputs": [],
   "source": [
    "# y_['y']"
   ]
  },
  {
   "cell_type": "code",
   "execution_count": 27,
   "metadata": {},
   "outputs": [
    {
     "data": {
      "text/plain": [
       "(array([8, 8, 8, ..., 2, 3, 3], dtype=int64),\n",
       " array([4, 4, 4, ..., 2, 2, 1], dtype=int64))"
      ]
     },
     "execution_count": 27,
     "metadata": {},
     "output_type": "execute_result"
    }
   ],
   "source": []
  },
  {
   "cell_type": "code",
   "execution_count": 5,
   "metadata": {},
   "outputs": [
    {
     "data": {
      "text/html": [
       "<div>\n",
       "<style scoped>\n",
       "    .dataframe tbody tr th:only-of-type {\n",
       "        vertical-align: middle;\n",
       "    }\n",
       "\n",
       "    .dataframe tbody tr th {\n",
       "        vertical-align: top;\n",
       "    }\n",
       "\n",
       "    .dataframe thead th {\n",
       "        text-align: right;\n",
       "    }\n",
       "</style>\n",
       "<table border=\"1\" class=\"dataframe\">\n",
       "  <thead>\n",
       "    <tr style=\"text-align: right;\">\n",
       "      <th></th>\n",
       "      <th>normal</th>\n",
       "      <th>chi</th>\n",
       "    </tr>\n",
       "  </thead>\n",
       "  <tbody>\n",
       "    <tr>\n",
       "      <th>0</th>\n",
       "      <td>13.994760</td>\n",
       "      <td>8.965983</td>\n",
       "    </tr>\n",
       "    <tr>\n",
       "      <th>1</th>\n",
       "      <td>12.145837</td>\n",
       "      <td>2.979170</td>\n",
       "    </tr>\n",
       "    <tr>\n",
       "      <th>2</th>\n",
       "      <td>5.363799</td>\n",
       "      <td>7.419285</td>\n",
       "    </tr>\n",
       "    <tr>\n",
       "      <th>3</th>\n",
       "      <td>9.974848</td>\n",
       "      <td>5.427561</td>\n",
       "    </tr>\n",
       "    <tr>\n",
       "      <th>4</th>\n",
       "      <td>11.864008</td>\n",
       "      <td>4.008033</td>\n",
       "    </tr>\n",
       "  </tbody>\n",
       "</table>\n",
       "</div>"
      ],
      "text/plain": [
       "      normal       chi\n",
       "0  13.994760  8.965983\n",
       "1  12.145837  2.979170\n",
       "2   5.363799  7.419285\n",
       "3   9.974848  5.427561\n",
       "4  11.864008  4.008033"
      ]
     },
     "execution_count": 5,
     "metadata": {},
     "output_type": "execute_result"
    }
   ],
   "source": [
    "import pandas as pd\n",
    "import numpy as np\n",
    "\n",
    "np.random.seed(10)\n",
    "df = pd.DataFrame({\n",
    "    'normal': np.random.normal(10, 3, 1000),\n",
    "    'chi': np.random.chisquare(4, 1000)\n",
    "})\n",
    "df.head()"
   ]
  },
  {
   "cell_type": "code",
   "execution_count": 9,
   "metadata": {},
   "outputs": [
    {
     "data": {
      "text/plain": [
       "0    (8.645, 10.784]\n",
       "1     (2.229, 4.368]\n",
       "2     (6.507, 8.645]\n",
       "3     (4.368, 6.507]\n",
       "4     (2.229, 4.368]\n",
       "Name: chi, dtype: category\n",
       "Categories (8, interval[float64]): [(0.0738, 2.229] < (2.229, 4.368] < (4.368, 6.507] < (6.507, 8.645] < (8.645, 10.784] < (10.784, 12.922] < (12.922, 15.061] < (15.061, 17.199]]"
      ]
     },
     "execution_count": 9,
     "metadata": {},
     "output_type": "execute_result"
    }
   ],
   "source": [
    "pd.cut(df['chi'], 8).head()"
   ]
  },
  {
   "cell_type": "code",
   "execution_count": 10,
   "metadata": {},
   "outputs": [
    {
     "data": {
      "text/html": [
       "<div>\n",
       "<style scoped>\n",
       "    .dataframe tbody tr th:only-of-type {\n",
       "        vertical-align: middle;\n",
       "    }\n",
       "\n",
       "    .dataframe tbody tr th {\n",
       "        vertical-align: top;\n",
       "    }\n",
       "\n",
       "    .dataframe thead th {\n",
       "        text-align: right;\n",
       "    }\n",
       "</style>\n",
       "<table border=\"1\" class=\"dataframe\">\n",
       "  <thead>\n",
       "    <tr style=\"text-align: right;\">\n",
       "      <th></th>\n",
       "      <th>normal</th>\n",
       "      <th>chi</th>\n",
       "    </tr>\n",
       "  </thead>\n",
       "  <tbody>\n",
       "    <tr>\n",
       "      <th>0</th>\n",
       "      <td>(12.5, 15.0]</td>\n",
       "      <td>(7.5, 10.0]</td>\n",
       "    </tr>\n",
       "    <tr>\n",
       "      <th>1</th>\n",
       "      <td>(10.0, 12.5]</td>\n",
       "      <td>(2.5, 5.0]</td>\n",
       "    </tr>\n",
       "    <tr>\n",
       "      <th>2</th>\n",
       "      <td>(5.0, 7.5]</td>\n",
       "      <td>(5.0, 7.5]</td>\n",
       "    </tr>\n",
       "    <tr>\n",
       "      <th>3</th>\n",
       "      <td>(7.5, 10.0]</td>\n",
       "      <td>(5.0, 7.5]</td>\n",
       "    </tr>\n",
       "    <tr>\n",
       "      <th>4</th>\n",
       "      <td>(10.0, 12.5]</td>\n",
       "      <td>(2.5, 5.0]</td>\n",
       "    </tr>\n",
       "  </tbody>\n",
       "</table>\n",
       "</div>"
      ],
      "text/plain": [
       "         normal          chi\n",
       "0  (12.5, 15.0]  (7.5, 10.0]\n",
       "1  (10.0, 12.5]   (2.5, 5.0]\n",
       "2    (5.0, 7.5]   (5.0, 7.5]\n",
       "3   (7.5, 10.0]   (5.0, 7.5]\n",
       "4  (10.0, 12.5]   (2.5, 5.0]"
      ]
     },
     "execution_count": 10,
     "metadata": {},
     "output_type": "execute_result"
    }
   ],
   "source": [
    "custom_bucket_array = np.linspace(0, 20, 9)\n",
    "custom_bucket_array\n",
    "df['normal'] = pd.cut(df['normal'], custom_bucket_array)\n",
    "df['chi'] = pd.cut(df['chi'], custom_bucket_array)\n",
    "df.head()"
   ]
  },
  {
   "cell_type": "code",
   "execution_count": 13,
   "metadata": {},
   "outputs": [
    {
     "data": {
      "text/plain": [
       "0      6\n",
       "1      1\n",
       "2      4\n",
       "3      7\n",
       "4      6\n",
       "5      1\n",
       "6      3\n",
       "7      6\n",
       "8      4\n",
       "9      6\n",
       "10     0\n",
       "11     3\n",
       "12     8\n",
       "13     2\n",
       "14     8\n",
       "15     7\n",
       "16     8\n",
       "17     0\n",
       "18     2\n",
       "19     1\n",
       "20     5\n",
       "21     6\n",
       "22     6\n",
       "23     6\n",
       "24     6\n",
       "25     1\n",
       "26     4\n",
       "27     6\n",
       "28     7\n",
       "29     7\n",
       "      ..\n",
       "970    7\n",
       "971    4\n",
       "972    8\n",
       "973    1\n",
       "974    0\n",
       "975    0\n",
       "976    2\n",
       "977    8\n",
       "978    0\n",
       "979    2\n",
       "980    3\n",
       "981    2\n",
       "982    2\n",
       "983    3\n",
       "984    5\n",
       "985    2\n",
       "986    1\n",
       "987    1\n",
       "988    4\n",
       "989    1\n",
       "990    1\n",
       "991    4\n",
       "992    0\n",
       "993    1\n",
       "994    1\n",
       "995    8\n",
       "996    6\n",
       "997    4\n",
       "998    5\n",
       "999    8\n",
       "Name: chi, Length: 1000, dtype: int64"
      ]
     },
     "execution_count": 13,
     "metadata": {},
     "output_type": "execute_result"
    }
   ],
   "source": [
    "df = pd.DataFrame({\n",
    "    'normal': np.random.normal(10, 3, 1000),\n",
    "    'chi': np.random.chisquare(4, 1000)\n",
    "})\n",
    "df.head()\n",
    "pd.qcut(df['chi'], 9, labels=False)"
   ]
  }
 ],
 "metadata": {
  "kernelspec": {
   "display_name": "tfgpu15",
   "language": "python",
   "name": "tfgpu15"
  },
  "language_info": {
   "codemirror_mode": {
    "name": "ipython",
    "version": 3
   },
   "file_extension": ".py",
   "mimetype": "text/x-python",
   "name": "python",
   "nbconvert_exporter": "python",
   "pygments_lexer": "ipython3",
   "version": "3.6.1"
  }
 },
 "nbformat": 4,
 "nbformat_minor": 2
}
