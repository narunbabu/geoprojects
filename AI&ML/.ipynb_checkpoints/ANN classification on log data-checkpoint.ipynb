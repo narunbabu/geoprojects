{
 "cells": [
  {
   "cell_type": "code",
   "execution_count": 1,
   "metadata": {},
   "outputs": [
    {
     "ename": "SyntaxError",
     "evalue": "invalid syntax (<ipython-input-1-24b449656c25>, line 7)",
     "output_type": "error",
     "traceback": [
      "\u001b[1;36m  File \u001b[1;32m\"<ipython-input-1-24b449656c25>\"\u001b[1;36m, line \u001b[1;32m7\u001b[0m\n\u001b[1;33m    from sklearn import model_selectiojol,.'|[]\u001b[0m\n\u001b[1;37m                                          ^\u001b[0m\n\u001b[1;31mSyntaxError\u001b[0m\u001b[1;31m:\u001b[0m invalid syntax\n"
     ]
    }
   ],
   "source": [
    "import os\n",
    "import numpy as np\n",
    "import pandas as pd\n",
    "%matplotlib inline\n",
    "from matplotlib import pyplot as plt\n",
    "from pandas.plotting import scatter_matrix\n",
    "from sklearn import model_selection\n",
    "from get_log_data import read_logs, get_digitized_logdata\n",
    "\n",
    "X_train, X_validation, Y_train, Y_validation=get_digitized_logdata(3)\n"
   ]
  },
  {
   "cell_type": "code",
   "execution_count": null,
   "metadata": {
    "collapsed": true
   },
   "outputs": [],
   "source": [
    "import os\n",
    "os.environ['TF_CPP_MIN_LOG_LEVEL']='2'\n",
    "\n",
    "import numpy as np\n",
    "import tensorflow as tf\n",
    "import time\n",
    "\n",
    "import utils\n",
    "\n",
    "# Define paramaters for the model\n",
    "learning_rate = 0.01\n",
    "batch_size = 960\n",
    "n_epochs = 1030\n",
    "n_train = 15000\n",
    "n_test = 2000\n",
    "train=X_train,Y_train\n",
    "test=X_validation,Y_validation"
   ]
  },
  {
   "cell_type": "code",
   "execution_count": null,
   "metadata": {},
   "outputs": [],
   "source": [
    "X_train.shape,Y_train.shape,Y_validation.shape"
   ]
  },
  {
   "cell_type": "code",
   "execution_count": null,
   "metadata": {
    "collapsed": true
   },
   "outputs": [],
   "source": [
    "# Step 2: Create datasets and iterator\n",
    "train_data = tf.data.Dataset.from_tensor_slices(train)\n",
    "# train_data = train_data.shuffle(10000) # if you want to shuffle your data\n",
    "train_data = train_data.batch(batch_size)\n",
    "\n",
    "test_data = tf.data.Dataset.from_tensor_slices(test)\n",
    "test_data = test_data.batch(batch_size)\n",
    "\n",
    "iterator = tf.data.Iterator.from_structure(train_data.output_types, \n",
    "                                           train_data.output_shapes)\n",
    "img, label = iterator.get_next()\n",
    "\n",
    "train_init = iterator.make_initializer(train_data)\t# initializer for train_data\n",
    "test_init = iterator.make_initializer(test_data)\t# initializer for train_data\n",
    "\n"
   ]
  },
  {
   "cell_type": "code",
   "execution_count": null,
   "metadata": {},
   "outputs": [],
   "source": [
    "# Step 3: create weights and bias\n",
    "# w is initialized to random variables with mean of 0, stddev of 0.01\n",
    "# b is initialized to 0\n",
    "# shape of w depends on the dimension of X and Y so that Y = tf.matmul(X, w)\n",
    "# shape of b depends on Y\n",
    "\n",
    "# w = tf.get_variable(name='weights', shape=(X_train.shape[1], Y_train.shape[1]), initializer=tf.random_normal_initializer(0, 0.001))\n",
    "# b = tf.get_variable(name='bias', shape=(1, Y_train.shape[1]), initializer=tf.zeros_initializer())\n",
    "nhidden0 = 160\n",
    "nhidden1 = 80\n",
    "nhidden2 = 40\n",
    "w0 = tf.get_variable(name='weights', shape=(X_train.shape[1], nhidden0), initializer=tf.random_normal_initializer(0, 0.001))\n",
    "b0 = tf.get_variable(name='bias', shape=(1, nhidden0), initializer=tf.zeros_initializer())\n",
    "\n",
    "\n",
    "w1 = tf.get_variable(name='weights1', shape=(nhidden0, nhidden1), initializer=tf.random_normal_initializer(0, 0.001))\n",
    "b1 = tf.get_variable(name='bias1', shape=(1, nhidden1), initializer=tf.zeros_initializer())\n",
    "\n",
    "w2 = tf.get_variable(name='weights2', shape=(nhidden1, nhidden2), initializer=tf.random_normal_initializer(0, 0.001))\n",
    "b2 = tf.get_variable(name='bias2', shape=(1, nhidden2), initializer=tf.zeros_initializer())\n",
    "\n",
    "wf = tf.get_variable(name='weightsf', shape=(nhidden2, Y_train.shape[1]), initializer=tf.random_normal_initializer(0, 0.001))\n",
    "bf = tf.get_variable(name='biasf', shape=(1, Y_train.shape[1]), initializer=tf.zeros_initializer())\n",
    "# #***************************************************\n",
    "\n",
    "# W0 = tf.Variable(tf.random_normal([2, nhidden],stddev=0.1))\n",
    "# b0 = tf.Variable(tf.zeros([nhidden]))\n",
    "\n",
    "# W1 = tf.Variable(tf.random_normal([nhidden, 1],stddev=0.1))\n",
    "# b1 = tf.Variable(tf.zeros([1]))\n",
    "\n",
    "hidden1 = tf.matmul(img, w0) + b0\n",
    "\n",
    "hidden2 = tf.matmul(hidden1, w1) + b1\n",
    "\n",
    "hiddenf = tf.matmul(hidden2, w2) + b2\n",
    "# yp = tf.matmul(tf.nn.relu(hidden), W1) + b1\n",
    "# logits = tf.nn.softmax(yp,dim=0)\n",
    "# #********************************************************\n",
    "\n",
    "# Step 4: build model\n",
    "# the model that returns the logits.\n",
    "# this logits will be later passed through softmax layer\n",
    "logits = tf.matmul(tf.nn.relu(hiddenf), wf) + bf\n",
    "\n",
    "# Step 5: define loss function\n",
    "# use cross entropy of softmax of logits as the loss function\n",
    "\n",
    "\n",
    "entropy = tf.nn.softmax_cross_entropy_with_logits(logits=logits, labels=label, name='entropy')\n",
    "loss = tf.reduce_mean(entropy, name='loss') # computes the mean over all the examples in the batch\n",
    "\n",
    "# Step 6: define training op\n",
    "# using gradient descent with learning rate of 0.01 to minimize loss\n",
    "optimizer = tf.train.AdamOptimizer(learning_rate).minimize(loss)\n",
    "# optimizer = tf.train.GradientDescentOptimizer(learning_rate).minimize(loss)\n",
    "\n",
    "\n",
    "# Step 7: calculate accuracy with test set\n",
    "preds = tf.nn.softmax(logits)\n",
    "correct_preds = tf.equal(tf.argmax(preds, 1), tf.argmax(label, 1))\n",
    "accuracy = tf.reduce_sum(tf.cast(correct_preds, tf.float32))"
   ]
  },
  {
   "cell_type": "code",
   "execution_count": null,
   "metadata": {},
   "outputs": [],
   "source": [
    "with tf.Session() as sess:\n",
    "   \n",
    "    start_time = time.time()\n",
    "    sess.run(tf.global_variables_initializer())\n",
    "\n",
    "    # train the model n_epochs times\n",
    "    for i in range(n_epochs): \t\n",
    "        sess.run(train_init)\t# drawing samples from train_data\n",
    "        total_loss = 0\n",
    "        n_batches = 0\n",
    "        try:\n",
    "            while True:\n",
    "                _, l = sess.run([optimizer, loss])\n",
    "                total_loss += l\n",
    "                n_batches += 1\n",
    "        except tf.errors.OutOfRangeError:\n",
    "            pass\n",
    "#         print()\n",
    "        print('Average loss epoch {0}: {1} w1:{2}'.format(i, total_loss/n_batches,sess.run(w1)[0,0]))\n",
    "    print('Total time: {0} seconds'.format(time.time() - start_time))\n",
    "\n",
    "    # test the model\n",
    "    sess.run(test_init)\t\t\t# drawing samples from test_data\n",
    "    total_correct_preds = 0\n",
    "    try:\n",
    "        while True:\n",
    "            accuracy_batch = sess.run(accuracy)\n",
    "            \n",
    "            total_correct_preds += accuracy_batch\n",
    "    except tf.errors.OutOfRangeError:\n",
    "        pass\n",
    "    print(sess.run(w1))\n",
    "    print('Accuracy {0}'.format(total_correct_preds/n_test))"
   ]
  },
  {
   "cell_type": "code",
   "execution_count": null,
   "metadata": {
    "collapsed": true
   },
   "outputs": [],
   "source": []
  }
 ],
 "metadata": {
  "kernelspec": {
   "display_name": "tfgpu15",
   "language": "python",
   "name": "tfgpu15"
  },
  "language_info": {
   "codemirror_mode": {
    "name": "ipython",
    "version": 3
   },
   "file_extension": ".py",
   "mimetype": "text/x-python",
   "name": "python",
   "nbconvert_exporter": "python",
   "pygments_lexer": "ipython3",
   "version": "3.6.1"
  }
 },
 "nbformat": 4,
 "nbformat_minor": 2
}
