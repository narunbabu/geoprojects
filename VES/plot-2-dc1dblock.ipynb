{
 "cells": [
  {
   "cell_type": "code",
   "execution_count": 1,
   "metadata": {},
   "outputs": [],
   "source": [
    "%matplotlib inline"
   ]
  },
  {
   "cell_type": "markdown",
   "metadata": {},
   "source": [
    "\n",
    "DC1dBlock\n",
    "---------\n",
    "\n",
    "This tutorial shows how an built-in forward operator is used for inversion.\n",
    "A DC 1D (VES) modelling is used to generate data, noisify and invert them.\n",
    "\n"
   ]
  },
  {
   "cell_type": "markdown",
   "metadata": {},
   "source": [
    "We import numpy, matplotlib and the 1D plotting function\n",
    "\n"
   ]
  },
  {
   "cell_type": "code",
   "execution_count": 2,
   "metadata": {},
   "outputs": [],
   "source": [
    "import numpy as np\n",
    "import matplotlib.pyplot as plt\n",
    "\n",
    "import pygimli as pg\n",
    "from pygimli.mplviewer import drawModel1D"
   ]
  },
  {
   "cell_type": "markdown",
   "metadata": {},
   "source": [
    "some definitions before (model, data and error)\n",
    "\n"
   ]
  },
  {
   "cell_type": "code",
   "execution_count": 3,
   "metadata": {},
   "outputs": [],
   "source": [
    "nlay = 4  # number of layers\n",
    "lam = 200.  # (initial) regularization parameter\n",
    "errPerc = 10.  # relative error of 3 percent\n",
    "ab2 = np.logspace(-1, 2, 50)  # AB/2 distance (current electrodes)\n",
    "mn2 = ab2 / 3.  # MN/2 distance (potential electrodes)"
   ]
  },
  {
   "cell_type": "code",
   "execution_count": 5,
   "metadata": {},
   "outputs": [
    {
     "data": {
      "text/plain": [
       "(array([  0.1       ,   0.11513954,   0.13257114,   0.1526418 ,\n",
       "          0.17575106,   0.20235896,   0.23299518,   0.26826958,\n",
       "          0.30888436,   0.35564803,   0.40949151,   0.47148664,\n",
       "          0.54286754,   0.62505519,   0.71968567,   0.82864277,\n",
       "          0.95409548,   1.09854114,   1.26485522,   1.45634848,\n",
       "          1.67683294,   1.93069773,   2.22299648,   2.55954792,\n",
       "          2.9470517 ,   3.39322177,   3.90693994,   4.49843267,\n",
       "          5.17947468,   5.96362332,   6.86648845,   7.90604321,\n",
       "          9.10298178,  10.48113134,  12.06792641,  13.89495494,\n",
       "         15.9985872 ,  18.42069969,  21.20950888,  24.42053095,\n",
       "         28.11768698,  32.37457543,  37.2759372 ,  42.9193426 ,\n",
       "         49.41713361,  56.89866029,  65.51285569,  75.43120063,\n",
       "         86.85113738, 100.        ]),\n",
       " array([3.33333333e-02, 3.83798466e-02, 4.41903789e-02, 5.08805989e-02,\n",
       "        5.85836875e-02, 6.74529883e-02, 7.76650604e-02, 8.94231932e-02,\n",
       "        1.02961453e-01, 1.18549344e-01, 1.36497169e-01, 1.57162212e-01,\n",
       "        1.80955848e-01, 2.08351731e-01, 2.39895224e-01, 2.76214258e-01,\n",
       "        3.18031825e-01, 3.66180381e-01, 4.21618406e-01, 4.85449493e-01,\n",
       "        5.58944312e-01, 6.43565910e-01, 7.40998828e-01, 8.53182641e-01,\n",
       "        9.82350568e-01, 1.13107392e+00, 1.30231331e+00, 1.49947756e+00,\n",
       "        1.72649156e+00, 1.98787444e+00, 2.28882948e+00, 2.63534774e+00,\n",
       "        3.03432726e+00, 3.49371045e+00, 4.02264214e+00, 4.63165165e+00,\n",
       "        5.33286240e+00, 6.14023323e+00, 7.06983629e+00, 8.14017698e+00,\n",
       "        9.37256233e+00, 1.07915251e+01, 1.24253124e+01, 1.43064475e+01,\n",
       "        1.64723779e+01, 1.89662201e+01, 2.18376186e+01, 2.51437335e+01,\n",
       "        2.89503791e+01, 3.33333333e+01]))"
      ]
     },
     "execution_count": 5,
     "metadata": {},
     "output_type": "execute_result"
    }
   ],
   "source": [
    "ab2,mn2"
   ]
  },
  {
   "cell_type": "markdown",
   "metadata": {},
   "source": [
    "initialize the forward modelling operator\n",
    "\n"
   ]
  },
  {
   "cell_type": "code",
   "execution_count": 6,
   "metadata": {},
   "outputs": [
    {
     "data": {
      "text/plain": [
       "<pygimli.core._pygimli_.DC1dModelling at 0x1f424f42810>"
      ]
     },
     "execution_count": 6,
     "metadata": {},
     "output_type": "execute_result"
    }
   ],
   "source": [
    "f = pg.DC1dModelling(nlay, ab2, mn2)\n",
    "f"
   ]
  },
  {
   "cell_type": "markdown",
   "metadata": {},
   "source": [
    "other ways are by specifying a Data Container or am/an/bm/bn distances\n",
    "\n"
   ]
  },
  {
   "cell_type": "code",
   "execution_count": 19,
   "metadata": {},
   "outputs": [],
   "source": [
    "synres = [100., 500., 20., 800.]  # synthetic resistivity\n",
    "synthk = [0.5, 3.5, 6.]  # synthetic thickness (nlay-th layer is infinite)"
   ]
  },
  {
   "cell_type": "markdown",
   "metadata": {},
   "source": [
    "the forward operator can be called by f.response(model) or simply f(model)\n",
    "\n"
   ]
  },
  {
   "cell_type": "code",
   "execution_count": 20,
   "metadata": {},
   "outputs": [
    {
     "data": {
      "text/plain": [
       "<pygimli.core._pygimli_.RVector at 0x1f424f63b20>"
      ]
     },
     "execution_count": 20,
     "metadata": {},
     "output_type": "execute_result"
    }
   ],
   "source": [
    "rhoa = f(synthk+synres)\n",
    "rhoa = rhoa * (pg.randn(len(rhoa)) * errPerc / 100. + 1.)\n",
    "rhoa"
   ]
  },
  {
   "cell_type": "code",
   "execution_count": 33,
   "metadata": {},
   "outputs": [
    {
     "data": {
      "text/plain": [
       "248.37689909272493"
      ]
     },
     "execution_count": 33,
     "metadata": {},
     "output_type": "execute_result"
    }
   ],
   "source": [
    "rhoa[-1]"
   ]
  },
  {
   "cell_type": "code",
   "execution_count": 48,
   "metadata": {},
   "outputs": [],
   "source": [
    "transThk = pg.RTransLog()  # log-transform ensures thk>0\n",
    "transRho = pg.RTransLogLU(1, 1000)  # lower and upper bound\n",
    "transRhoa = pg.RTransLog()  # log transformation for data"
   ]
  },
  {
   "cell_type": "code",
   "execution_count": 49,
   "metadata": {},
   "outputs": [],
   "source": [
    "mlay = 5  # number of layers\n",
    "lam = 200.  # (initial) regularization parameter\n",
    "mab2=[1,\t2,\t3,\t4,\t5,\t5,\t6,\t8,\t10,\t15,\t20,\t25,\t25,\t30,\t35,\t40,\t50,\t50,\t60,\t70,\t80,\t90,\t100,\t100,\t110,\t120,\t130,\t140,\t160,\t160,\t180,\t200,\t220,\t240,\t260,\t280,\t300]\n",
    "mmn2=[0.4,\t0.4,\t0.4,\t0.4,\t0.4,\t2,\t2,\t2,\t2,\t2,\t2,\t2,\t5,\t5,\t5,\t5,\t5,\t10,\t10,\t10,\t10,\t10,\t10,\t20,\t20,\t20,\t20,\t20,\t20,\t30,\t30,\t30,\t30,\t30,\t30,\t30,\t30]\n",
    "\n",
    "mrhoa=[20.19,\t14.45,\t14.26,\t17.16,\t17.55,\t18.13,\t20,\t26.75,\t30.07,\t41.12,\t59.69,\t66.79,\t73.29,\t81.6,\t110.78,\t139.96,\t179.52,\t194.43,\t229.69,\t238.14,\t305.63,\t317.77,\t354.38,\t378.31,\t406.87,\t434.11,\t490.9,\t550.13,\t638.96,\t670.88,\t717.1,\t793.94,\t825.3,\t884.26,\t925.02,\t981.51,\t1021.18]\n"
   ]
  },
  {
   "cell_type": "code",
   "execution_count": 50,
   "metadata": {},
   "outputs": [
    {
     "data": {
      "text/plain": [
       "<pygimli.core._pygimli_.DC1dModelling at 0x1f42555af48>"
      ]
     },
     "execution_count": 50,
     "metadata": {},
     "output_type": "execute_result"
    }
   ],
   "source": [
    "# mab2,mrhoa\n",
    "mf = pg.DC1dModelling(mlay, mab2, mmn2)\n",
    "mf"
   ]
  },
  {
   "cell_type": "code",
   "execution_count": 51,
   "metadata": {
    "collapsed": true
   },
   "outputs": [],
   "source": [
    "mf.region(0).setTransModel(transThk)  # 0=thickness\n",
    "mf.region(1).setTransModel(transRho)  # 1=resistivity"
   ]
  },
  {
   "cell_type": "code",
   "execution_count": 52,
   "metadata": {
    "collapsed": true
   },
   "outputs": [],
   "source": [
    "mparaDepth = max(mab2) / 3.  # rule-of-thumb for Wenner/Schlumberger\n",
    "mf.region(0).setStartValue(mparaDepth / mlay / 2)\n",
    "mf.region(1).setStartValue(np.median(mrhoa))"
   ]
  },
  {
   "cell_type": "code",
   "execution_count": 53,
   "metadata": {
    "collapsed": true
   },
   "outputs": [],
   "source": [
    "minv = pg.RInversion(mrhoa, mf, transRhoa, True)  # data vector, fop, verbose\n",
    "# could also be set by inv.setTransData(transRhoa)"
   ]
  },
  {
   "cell_type": "code",
   "execution_count": 54,
   "metadata": {
    "collapsed": true
   },
   "outputs": [],
   "source": [
    "minv.setRelativeError(errPerc / 100.0)  # alternative: setAbsoluteError in Ohmm\n",
    "minv.setLambda(lam)  # (initial) regularization parameter\n",
    "minv.setMarquardtScheme(0.9)  # decrease lambda by factor 0.9\n",
    "model = mf.createStartVector()  # creates from region start value\n",
    "model[nlay] *= 1.5  # change default model by changing 2nd layer resistivity\n",
    "minv.setModel(model)  #"
   ]
  },
  {
   "cell_type": "code",
   "execution_count": 55,
   "metadata": {},
   "outputs": [
    {
     "name": "stdout",
     "output_type": "stream",
     "text": [
      "rrms=30.17%, chi^2=10.037\n"
     ]
    }
   ],
   "source": [
    "model = minv.run()  # result is a pg.RVector, but compatible to numpy array\n",
    "res, thk = model[mlay-1:mlay*2-1], model[0:mlay-1]\n",
    "print('rrms={:.2f}%, chi^2={:.3f}'.format(minv.relrms(), minv.chi2()))"
   ]
  },
  {
   "cell_type": "code",
   "execution_count": 58,
   "metadata": {
    "scrolled": true
   },
   "outputs": [
    {
     "data": {
      "image/png": "[encoded data removed]",
      "text/plain": [
       "<Figure size 576x432 with 2 Axes>"
      ]
     },
     "metadata": {},
     "output_type": "display_data"
    }
   ],
   "source": [
    "fig, ax = plt.subplots(ncols=2, figsize=(8, 6))  # two-column figure\n",
    "drawModel1D(ax[0], synthk, synres, plot='semilogx', color='r')\n",
    "drawModel1D(ax[0], thk, res, color='b')\n",
    "ax[0].grid(True, which='both')\n",
    "ax[0].set_ylabel('z (m)')\n",
    "ax[0].set_xlabel(r'$\\rho$ ($\\Omega$m)')\n",
    "ax[1].loglog( mab2, mrhoa,'rx-', label='data')  # sounding curve\n",
    "ax[1].loglog( mab2, minv.response(),'b-', label='response')\n",
    "ax[1].set_xlim(( min(mab2),max(mab2)))  # downwards according to penetration\n",
    "ax[1].grid(True, which='both')\n",
    "ax[1].set_ylabel(r'$\\rho_a$ ($\\Omega$m)')\n",
    "ax[1].set_xlabel('AB/2 (m)')\n",
    "ax[1].legend(loc='best')\n",
    "plt.show()"
   ]
  },
  {
   "cell_type": "markdown",
   "metadata": {},
   "source": [
    "create some transformations used for inversion\n",
    "\n"
   ]
  },
  {
   "cell_type": "markdown",
   "metadata": {},
   "source": [
    "set model transformation for thickness and resistivity\n",
    "\n"
   ]
  },
  {
   "cell_type": "code",
   "execution_count": 22,
   "metadata": {},
   "outputs": [],
   "source": [
    "f.region(0).setTransModel(transThk)  # 0=thickness\n",
    "f.region(1).setTransModel(transRho)  # 1=resistivity"
   ]
  },
  {
   "cell_type": "markdown",
   "metadata": {},
   "source": [
    "generate start model values from median app. resistivity & spread\n",
    "\n"
   ]
  },
  {
   "cell_type": "code",
   "execution_count": 23,
   "metadata": {},
   "outputs": [],
   "source": [
    "paraDepth = max(ab2) / 3.  # rule-of-thumb for Wenner/Schlumberger\n",
    "f.region(0).setStartValue(paraDepth / nlay / 2)\n",
    "f.region(1).setStartValue(np.median(rhoa))"
   ]
  },
  {
   "cell_type": "markdown",
   "metadata": {},
   "source": [
    "set up inversion\n",
    "\n"
   ]
  },
  {
   "cell_type": "code",
   "execution_count": 24,
   "metadata": {},
   "outputs": [],
   "source": [
    "inv = pg.RInversion(rhoa, f, transRhoa, True)  # data vector, fop, verbose\n",
    "# could also be set by inv.setTransData(transRhoa)"
   ]
  },
  {
   "cell_type": "markdown",
   "metadata": {},
   "source": [
    "set error model, regularization strength and Marquardt scheme\n",
    "\n"
   ]
  },
  {
   "cell_type": "code",
   "execution_count": 25,
   "metadata": {},
   "outputs": [],
   "source": [
    "inv.setRelativeError(errPerc / 100.0)  # alternative: setAbsoluteError in Ohmm\n",
    "inv.setLambda(lam)  # (initial) regularization parameter\n",
    "inv.setMarquardtScheme(0.9)  # decrease lambda by factor 0.9\n",
    "model = f.createStartVector()  # creates from region start value\n",
    "model[nlay] *= 1.5  # change default model by changing 2nd layer resistivity\n",
    "inv.setModel(model)  #"
   ]
  },
  {
   "cell_type": "markdown",
   "metadata": {},
   "source": [
    "run actual inversion and extract resistivity and thickness\n",
    "\n"
   ]
  },
  {
   "cell_type": "code",
   "execution_count": 26,
   "metadata": {},
   "outputs": [
    {
     "name": "stdout",
     "output_type": "stream",
     "text": [
      "rrms=11.18%, chi^2=1.247\n"
     ]
    }
   ],
   "source": [
    "model = inv.run()  # result is a pg.RVector, but compatible to numpy array\n",
    "res, thk = model[nlay-1:nlay*2-1], model[0:nlay-1]\n",
    "print('rrms={:.2f}%, chi^2={:.3f}'.format(inv.relrms(), inv.chi2()))"
   ]
  },
  {
   "cell_type": "markdown",
   "metadata": {},
   "source": [
    "show estimated&synthetic models and data with model response in 2 subplots\n",
    "\n"
   ]
  },
  {
   "cell_type": "code",
   "execution_count": 27,
   "metadata": {},
   "outputs": [
    {
     "data": {
      "image/png": "[encoded data removed]",
      "text/plain": [
       "<Figure size 576x432 with 2 Axes>"
      ]
     },
     "metadata": {},
     "output_type": "display_data"
    }
   ],
   "source": [
    "fig, ax = plt.subplots(ncols=2, figsize=(8, 6))  # two-column figure\n",
    "drawModel1D(ax[0], synthk, synres, plot='semilogx', color='r')\n",
    "drawModel1D(ax[0], thk, res, color='b')\n",
    "ax[0].grid(True, which='both')\n",
    "ax[0].set_ylabel('z (m)')\n",
    "ax[0].set_xlabel(r'$\\rho$ ($\\Omega$m)')\n",
    "ax[1].loglog(rhoa, ab2, 'rx-', label='data')  # sounding curve\n",
    "ax[1].loglog(inv.response(), ab2, 'b-', label='response')\n",
    "ax[1].set_ylim((max(ab2), min(ab2)))  # downwards according to penetration\n",
    "ax[1].grid(True, which='both')\n",
    "ax[1].set_xlabel(r'$\\rho_a$ ($\\Omega$m)')\n",
    "ax[1].set_ylabel('AB/2 (m)')\n",
    "ax[1].legend(loc='best')\n",
    "plt.show()"
   ]
  },
  {
   "cell_type": "code",
   "execution_count": null,
   "metadata": {
    "collapsed": true
   },
   "outputs": [],
   "source": []
  },
  {
   "cell_type": "code",
   "execution_count": null,
   "metadata": {
    "collapsed": true
   },
   "outputs": [],
   "source": []
  }
 ],
 "metadata": {
  "kernelspec": {
   "display_name": "Python 3",
   "language": "python",
   "name": "python3"
  },
  "language_info": {
   "codemirror_mode": {
    "name": "ipython",
    "version": 3
   },
   "file_extension": ".py",
   "mimetype": "text/x-python",
   "name": "python",
   "nbconvert_exporter": "python",
   "pygments_lexer": "ipython3",
   "version": "3.6.1"
  }
 },
 "nbformat": 4,
 "nbformat_minor": 1
}
