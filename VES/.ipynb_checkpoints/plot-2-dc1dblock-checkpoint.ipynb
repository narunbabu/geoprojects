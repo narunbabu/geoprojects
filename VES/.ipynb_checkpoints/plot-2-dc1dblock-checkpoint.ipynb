{
 "cells": [
  {
   "cell_type": "code",
   "execution_count": 1,
   "metadata": {},
   "outputs": [],
   "source": [
    "%matplotlib inline"
   ]
  },
  {
   "cell_type": "markdown",
   "metadata": {},
   "source": [
    "\n",
    "DC1dBlock\n",
    "---------\n",
    "\n",
    "This tutorial shows how an built-in forward operator is used for inversion.\n",
    "A DC 1D (VES) modelling is used to generate data, noisify and invert them.\n",
    "\n"
   ]
  },
  {
   "cell_type": "markdown",
   "metadata": {},
   "source": [
    "We import numpy, matplotlib and the 1D plotting function\n",
    "\n"
   ]
  },
  {
   "cell_type": "code",
   "execution_count": 2,
   "metadata": {},
   "outputs": [],
   "source": [
    "import numpy as np\n",
    "import matplotlib.pyplot as plt\n",
    "\n",
    "import pygimli as pg\n",
    "from pygimli.mplviewer import drawModel1D"
   ]
  },
  {
   "cell_type": "markdown",
   "metadata": {},
   "source": [
    "some definitions before (model, data and error)\n",
    "\n"
   ]
  },
  {
   "cell_type": "code",
   "execution_count": 3,
   "metadata": {},
   "outputs": [],
   "source": [
    "nlay = 4  # number of layers\n",
    "lam = 200.  # (initial) regularization parameter\n",
    "errPerc = 10.  # relative error of 3 percent\n",
    "ab2 = np.logspace(-1, 2, 50)  # AB/2 distance (current electrodes)\n",
    "mn2 = ab2 / 3.  # MN/2 distance (potential electrodes)"
   ]
  },
  {
   "cell_type": "markdown",
   "metadata": {},
   "source": [
    "initialize the forward modelling operator\n",
    "\n"
   ]
  },
  {
   "cell_type": "code",
   "execution_count": 4,
   "metadata": {},
   "outputs": [],
   "source": [
    "f = pg.DC1dModelling(nlay, ab2, mn2)"
   ]
  },
  {
   "cell_type": "markdown",
   "metadata": {},
   "source": [
    "other ways are by specifying a Data Container or am/an/bm/bn distances\n",
    "\n"
   ]
  },
  {
   "cell_type": "code",
   "execution_count": null,
   "metadata": {},
   "outputs": [],
   "source": [
    "synres = [100., 500., 20., 800.]  # synthetic resistivity\n",
    "synthk = [0.5, 3.5, 6.]  # synthetic thickness (nlay-th layer is infinite)"
   ]
  },
  {
   "cell_type": "markdown",
   "metadata": {},
   "source": [
    "the forward operator can be called by f.response(model) or simply f(model)\n",
    "\n"
   ]
  },
  {
   "cell_type": "code",
   "execution_count": null,
   "metadata": {},
   "outputs": [],
   "source": [
    "rhoa = f(synthk+synres)\n",
    "rhoa = rhoa * (pg.randn(len(rhoa)) * errPerc / 100. + 1.)"
   ]
  },
  {
   "cell_type": "markdown",
   "metadata": {},
   "source": [
    "create some transformations used for inversion\n",
    "\n"
   ]
  },
  {
   "cell_type": "code",
   "execution_count": null,
   "metadata": {},
   "outputs": [],
   "source": [
    "transThk = pg.RTransLog()  # log-transform ensures thk>0\n",
    "transRho = pg.RTransLogLU(1, 1000)  # lower and upper bound\n",
    "transRhoa = pg.RTransLog()  # log transformation for data"
   ]
  },
  {
   "cell_type": "markdown",
   "metadata": {},
   "source": [
    "set model transformation for thickness and resistivity\n",
    "\n"
   ]
  },
  {
   "cell_type": "code",
   "execution_count": null,
   "metadata": {},
   "outputs": [],
   "source": [
    "f.region(0).setTransModel(transThk)  # 0=thickness\n",
    "f.region(1).setTransModel(transRho)  # 1=resistivity"
   ]
  },
  {
   "cell_type": "markdown",
   "metadata": {},
   "source": [
    "generate start model values from median app. resistivity & spread\n",
    "\n"
   ]
  },
  {
   "cell_type": "code",
   "execution_count": null,
   "metadata": {},
   "outputs": [],
   "source": [
    "paraDepth = max(ab2) / 3.  # rule-of-thumb for Wenner/Schlumberger\n",
    "f.region(0).setStartValue(paraDepth / nlay / 2)\n",
    "f.region(1).setStartValue(np.median(rhoa))"
   ]
  },
  {
   "cell_type": "markdown",
   "metadata": {},
   "source": [
    "set up inversion\n",
    "\n"
   ]
  },
  {
   "cell_type": "code",
   "execution_count": null,
   "metadata": {},
   "outputs": [],
   "source": [
    "inv = pg.RInversion(rhoa, f, transRhoa, True)  # data vector, fop, verbose\n",
    "# could also be set by inv.setTransData(transRhoa)"
   ]
  },
  {
   "cell_type": "markdown",
   "metadata": {},
   "source": [
    "set error model, regularization strength and Marquardt scheme\n",
    "\n"
   ]
  },
  {
   "cell_type": "code",
   "execution_count": null,
   "metadata": {},
   "outputs": [],
   "source": [
    "inv.setRelativeError(errPerc / 100.0)  # alternative: setAbsoluteError in Ohmm\n",
    "inv.setLambda(lam)  # (initial) regularization parameter\n",
    "inv.setMarquardtScheme(0.9)  # decrease lambda by factor 0.9\n",
    "model = f.createStartVector()  # creates from region start value\n",
    "model[nlay] *= 1.5  # change default model by changing 2nd layer resistivity\n",
    "inv.setModel(model)  #"
   ]
  },
  {
   "cell_type": "markdown",
   "metadata": {},
   "source": [
    "run actual inversion and extract resistivity and thickness\n",
    "\n"
   ]
  },
  {
   "cell_type": "code",
   "execution_count": null,
   "metadata": {},
   "outputs": [],
   "source": [
    "model = inv.run()  # result is a pg.RVector, but compatible to numpy array\n",
    "res, thk = model[nlay-1:nlay*2-1], model[0:nlay-1]\n",
    "print('rrms={:.2f}%, chi^2={:.3f}'.format(inv.relrms(), inv.chi2()))"
   ]
  },
  {
   "cell_type": "markdown",
   "metadata": {},
   "source": [
    "show estimated&synthetic models and data with model response in 2 subplots\n",
    "\n"
   ]
  },
  {
   "cell_type": "code",
   "execution_count": null,
   "metadata": {},
   "outputs": [],
   "source": [
    "fig, ax = plt.subplots(ncols=2, figsize=(8, 6))  # two-column figure\n",
    "drawModel1D(ax[0], synthk, synres, plot='semilogx', color='r')\n",
    "drawModel1D(ax[0], thk, res, color='b')\n",
    "ax[0].grid(True, which='both')\n",
    "ax[0].set_ylabel('z (m)')\n",
    "ax[0].set_xlabel(r'$\\rho$ ($\\Omega$m)')\n",
    "ax[1].loglog(rhoa, ab2, 'rx-', label='data')  # sounding curve\n",
    "ax[1].loglog(inv.response(), ab2, 'b-', label='response')\n",
    "ax[1].set_ylim((max(ab2), min(ab2)))  # downwards according to penetration\n",
    "ax[1].grid(True, which='both')\n",
    "ax[1].set_xlabel(r'$\\rho_a$ ($\\Omega$m)')\n",
    "ax[1].set_ylabel('AB/2 (m)')\n",
    "ax[1].legend(loc='best')\n",
    "plt.show()"
   ]
  }
 ],
 "metadata": {
  "kernelspec": {
   "display_name": "Python 3",
   "language": "python",
   "name": "python3"
  },
  "language_info": {
   "codemirror_mode": {
    "name": "ipython",
    "version": 3
   },
   "file_extension": ".py",
   "mimetype": "text/x-python",
   "name": "python",
   "nbconvert_exporter": "python",
   "pygments_lexer": "ipython3",
   "version": "3.6.1"
  }
 },
 "nbformat": 4,
 "nbformat_minor": 1
}
